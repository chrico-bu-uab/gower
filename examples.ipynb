{
 "cells": [
  {
   "cell_type": "code",
   "execution_count": 1,
   "metadata": {
    "collapsed": true,
    "ExecuteTime": {
     "start_time": "2023-03-30T21:09:37.328641Z",
     "end_time": "2023-03-30T21:09:38.066431Z"
    }
   },
   "outputs": [],
   "source": [
    "import pandas as pd\n",
    "from sklearn.cluster import DBSCAN\n",
    "\n",
    "from gower.gower_dist import *"
   ]
  },
  {
   "cell_type": "markdown",
   "source": [
    "# Simple example from D'Orazio"
   ],
   "metadata": {
    "collapsed": false
   },
   "outputs": []
  },
  {
   "cell_type": "code",
   "execution_count": 2,
   "outputs": [],
   "source": [
    "df = pd.DataFrame({\"Sex1\": [\"M\", \"M\", \"F\", \"F\", \"F\", \"M\", \"M\", \"F\", \"F\", \"F\"],\n",
    "                   \"Sex2\": [\"M\", \"M\", \"F\", \"F\", \"F\", \"F\", \"F\", \"M\", \"M\", \"M\"],\n",
    "                   \"Age1\": [15] * 10,\n",
    "                   \"Age2\": [15, 36, 58, 78, 100, 15, 36, 58, 78, 100]})"
   ],
   "metadata": {
    "collapsed": false,
    "ExecuteTime": {
     "start_time": "2023-03-30T21:09:38.068661Z",
     "end_time": "2023-03-30T21:09:38.069938Z"
    }
   }
  },
  {
   "cell_type": "code",
   "execution_count": 3,
   "outputs": [
    {
     "data": {
      "text/plain": "  0%|          | 0/10 [00:00<?, ?it/s]",
      "application/vnd.jupyter.widget-view+json": {
       "version_major": 2,
       "version_minor": 0,
       "model_id": "c80011cdbb714b33bf22fafd49b73510"
      }
     },
     "metadata": {},
     "output_type": "display_data"
    },
    {
     "name": "stdout",
     "output_type": "stream",
     "text": [
      "[0.         0.12352941 0.25294118 0.37058824 0.5        0.5\n",
      " 0.62352941 0.75294118 0.87058824 1.        ]\n"
     ]
    },
    {
     "data": {
      "text/plain": "  Sex1 Sex2  Age1  Age2\n0    M    M    15    15\n1    M    M    15    36\n2    F    F    15    58\n3    F    F    15    78\n4    F    F    15   100\n5    M    F    15    15\n6    M    F    15    36\n7    F    M    15    58\n8    F    M    15    78\n9    F    M    15   100",
      "text/html": "<div>\n<style scoped>\n    .dataframe tbody tr th:only-of-type {\n        vertical-align: middle;\n    }\n\n    .dataframe tbody tr th {\n        vertical-align: top;\n    }\n\n    .dataframe thead th {\n        text-align: right;\n    }\n</style>\n<table border=\"1\" class=\"dataframe\">\n  <thead>\n    <tr style=\"text-align: right;\">\n      <th></th>\n      <th>Sex1</th>\n      <th>Sex2</th>\n      <th>Age1</th>\n      <th>Age2</th>\n    </tr>\n  </thead>\n  <tbody>\n    <tr>\n      <th>0</th>\n      <td>M</td>\n      <td>M</td>\n      <td>15</td>\n      <td>15</td>\n    </tr>\n    <tr>\n      <th>1</th>\n      <td>M</td>\n      <td>M</td>\n      <td>15</td>\n      <td>36</td>\n    </tr>\n    <tr>\n      <th>2</th>\n      <td>F</td>\n      <td>F</td>\n      <td>15</td>\n      <td>58</td>\n    </tr>\n    <tr>\n      <th>3</th>\n      <td>F</td>\n      <td>F</td>\n      <td>15</td>\n      <td>78</td>\n    </tr>\n    <tr>\n      <th>4</th>\n      <td>F</td>\n      <td>F</td>\n      <td>15</td>\n      <td>100</td>\n    </tr>\n    <tr>\n      <th>5</th>\n      <td>M</td>\n      <td>F</td>\n      <td>15</td>\n      <td>15</td>\n    </tr>\n    <tr>\n      <th>6</th>\n      <td>M</td>\n      <td>F</td>\n      <td>15</td>\n      <td>36</td>\n    </tr>\n    <tr>\n      <th>7</th>\n      <td>F</td>\n      <td>M</td>\n      <td>15</td>\n      <td>58</td>\n    </tr>\n    <tr>\n      <th>8</th>\n      <td>F</td>\n      <td>M</td>\n      <td>15</td>\n      <td>78</td>\n    </tr>\n    <tr>\n      <th>9</th>\n      <td>F</td>\n      <td>M</td>\n      <td>15</td>\n      <td>100</td>\n    </tr>\n  </tbody>\n</table>\n</div>"
     },
     "execution_count": 3,
     "metadata": {},
     "output_type": "execute_result"
    }
   ],
   "source": [
    "distances = np.diag(gower_matrix(df[[\"Sex1\", \"Age1\"]].to_numpy(), df[[\"Sex2\", \"Age2\"]].to_numpy(), weight=\"uniform\"))\n",
    "print(distances)\n",
    "df.loc[np.argsort(distances)]"
   ],
   "metadata": {
    "collapsed": false,
    "ExecuteTime": {
     "start_time": "2023-03-30T21:09:38.072049Z",
     "end_time": "2023-03-30T21:09:40.298431Z"
    }
   }
  },
  {
   "cell_type": "code",
   "execution_count": 4,
   "outputs": [
    {
     "data": {
      "text/plain": "  0%|          | 0/1 [00:00<?, ?it/s]",
      "application/vnd.jupyter.widget-view+json": {
       "version_major": 2,
       "version_minor": 0,
       "model_id": "11576c4642774945b79b2fba45933018"
      }
     },
     "metadata": {},
     "output_type": "display_data"
    },
    {
     "data": {
      "text/plain": "  0%|          | 0/1 [00:00<?, ?it/s]",
      "application/vnd.jupyter.widget-view+json": {
       "version_major": 2,
       "version_minor": 0,
       "model_id": "67191e4dd78e45bd9f22db2aff0fa499"
      }
     },
     "metadata": {},
     "output_type": "display_data"
    },
    {
     "data": {
      "text/plain": "  0%|          | 0/10 [00:00<?, ?it/s]",
      "application/vnd.jupyter.widget-view+json": {
       "version_major": 2,
       "version_minor": 0,
       "model_id": "2e763200b07148309a20b07cc190fb9e"
      }
     },
     "metadata": {},
     "output_type": "display_data"
    },
    {
     "name": "stdout",
     "output_type": "stream",
     "text": [
      "[0.         0.18542097 0.37967151 0.55626291 0.75051345 0.24948655\n",
      " 0.43490752 0.62915806 0.80574946 1.        ]\n"
     ]
    },
    {
     "data": {
      "text/plain": "  Sex1 Sex2  Age1  Age2\n0    M    M    15    15\n1    M    M    15    36\n5    M    F    15    15\n2    F    F    15    58\n6    M    F    15    36\n3    F    F    15    78\n7    F    M    15    58\n4    F    F    15   100\n8    F    M    15    78\n9    F    M    15   100",
      "text/html": "<div>\n<style scoped>\n    .dataframe tbody tr th:only-of-type {\n        vertical-align: middle;\n    }\n\n    .dataframe tbody tr th {\n        vertical-align: top;\n    }\n\n    .dataframe thead th {\n        text-align: right;\n    }\n</style>\n<table border=\"1\" class=\"dataframe\">\n  <thead>\n    <tr style=\"text-align: right;\">\n      <th></th>\n      <th>Sex1</th>\n      <th>Sex2</th>\n      <th>Age1</th>\n      <th>Age2</th>\n    </tr>\n  </thead>\n  <tbody>\n    <tr>\n      <th>0</th>\n      <td>M</td>\n      <td>M</td>\n      <td>15</td>\n      <td>15</td>\n    </tr>\n    <tr>\n      <th>1</th>\n      <td>M</td>\n      <td>M</td>\n      <td>15</td>\n      <td>36</td>\n    </tr>\n    <tr>\n      <th>5</th>\n      <td>M</td>\n      <td>F</td>\n      <td>15</td>\n      <td>15</td>\n    </tr>\n    <tr>\n      <th>2</th>\n      <td>F</td>\n      <td>F</td>\n      <td>15</td>\n      <td>58</td>\n    </tr>\n    <tr>\n      <th>6</th>\n      <td>M</td>\n      <td>F</td>\n      <td>15</td>\n      <td>36</td>\n    </tr>\n    <tr>\n      <th>3</th>\n      <td>F</td>\n      <td>F</td>\n      <td>15</td>\n      <td>78</td>\n    </tr>\n    <tr>\n      <th>7</th>\n      <td>F</td>\n      <td>M</td>\n      <td>15</td>\n      <td>58</td>\n    </tr>\n    <tr>\n      <th>4</th>\n      <td>F</td>\n      <td>F</td>\n      <td>15</td>\n      <td>100</td>\n    </tr>\n    <tr>\n      <th>8</th>\n      <td>F</td>\n      <td>M</td>\n      <td>15</td>\n      <td>78</td>\n    </tr>\n    <tr>\n      <th>9</th>\n      <td>F</td>\n      <td>M</td>\n      <td>15</td>\n      <td>100</td>\n    </tr>\n  </tbody>\n</table>\n</div>"
     },
     "execution_count": 4,
     "metadata": {},
     "output_type": "execute_result"
    }
   ],
   "source": [
    "distances = np.diag(gower_matrix(df[[\"Sex1\", \"Age1\"]].to_numpy(), df[[\"Sex2\", \"Age2\"]].to_numpy()))\n",
    "print(distances)\n",
    "df.loc[np.argsort(distances)]"
   ],
   "metadata": {
    "collapsed": false,
    "ExecuteTime": {
     "start_time": "2023-03-30T21:09:40.300649Z",
     "end_time": "2023-03-30T21:09:44.328526Z"
    }
   }
  },
  {
   "cell_type": "markdown",
   "source": [
    "# Metrics\n",
    "\n",
    "### We can also use the categorical weight function to measure cluster quality and thereby tune clustering algorithms such as DBSCAN.\n",
    "\n",
    "##### I calculated Gower distances for each of the three datasets above using the new weighting scheme and uniform weighting, and then ran a grid search for each of the resultant sets of distances with DBSCAN based on the new weighting formula for categorical variables. The new scheme yielded higher maximum performance across all three datasets."
   ],
   "metadata": {
    "collapsed": false
   }
  },
  {
   "cell_type": "markdown",
   "source": [
    "# Dog adoption dataset"
   ],
   "metadata": {
    "collapsed": false
   }
  },
  {
   "cell_type": "code",
   "execution_count": 5,
   "outputs": [
    {
     "name": "stdout",
     "output_type": "stream",
     "text": [
      "breed_secondary\n",
      "color_primary\n",
      "color_secondary\n",
      "color_tertiary\n",
      "declawed\n",
      "env_cats\n"
     ]
    },
    {
     "data": {
      "text/plain": "  0%|          | 0/28 [00:00<?, ?it/s]",
      "application/vnd.jupyter.widget-view+json": {
       "version_major": 2,
       "version_minor": 0,
       "model_id": "069cf67427464c86847861a6b443ff97"
      }
     },
     "metadata": {},
     "output_type": "display_data"
    },
    {
     "data": {
      "text/plain": "0it [00:00, ?it/s]",
      "application/vnd.jupyter.widget-view+json": {
       "version_major": 2,
       "version_minor": 0,
       "model_id": "5eaed6c17f244ddfaa3864181718a9ef"
      }
     },
     "metadata": {},
     "output_type": "display_data"
    },
    {
     "data": {
      "text/plain": "  0%|          | 0/13729 [00:00<?, ?it/s]",
      "application/vnd.jupyter.widget-view+json": {
       "version_major": 2,
       "version_minor": 0,
       "model_id": "fc89f5c81e7f4a1ba75e34df73812f29"
      }
     },
     "metadata": {},
     "output_type": "display_data"
    },
    {
     "data": {
      "text/plain": "  0%|          | 0/100 [00:00<?, ?it/s]",
      "application/vnd.jupyter.widget-view+json": {
       "version_major": 2,
       "version_minor": 0,
       "model_id": "73607c8dc7c04a69ba7cd2618f878bb2"
      }
     },
     "metadata": {},
     "output_type": "display_data"
    },
    {
     "name": "stdout",
     "output_type": "stream",
     "text": [
      "({'eps': 0.45, 'min_samples': 1}, 0.939180324114441)\n",
      "0.939180324114441\n",
      "(array([  1,   2,   3,   4,   5,   6,   7,   8,   9,  10,  11,  12,  13,\n",
      "        14,  15,  16,  17,  18,  19,  20,  21,  22,  23,  24,  25,  26,\n",
      "        27,  28,  29,  30,  31,  32,  33,  34,  35,  36,  37,  38,  39,\n",
      "        40,  41,  42,  43,  45,  46,  48,  50,  52,  53,  55,  56,  58,\n",
      "        60,  61,  65,  68,  69,  73,  84,  89,  91,  95, 124, 125, 136,\n",
      "       140, 154, 243]), array([1401,  347,  184,  137,   99,   74,   71,   45,   48,   33,   38,\n",
      "         23,   30,   20,   20,   17,   13,    8,   15,   10,   12,    8,\n",
      "          4,    6,    5,    7,    6,    5,    4,    4,    3,    4,    1,\n",
      "          2,    5,    1,    1,    3,    4,    2,    1,    3,    1,    2,\n",
      "          1,    1,    1,    1,    2,    1,    1,    3,    2,    1,    1,\n",
      "          2,    2,    1,    1,    1,    1,    1,    1,    1,    1,    1,\n",
      "          1,    1]))\n"
     ]
    },
    {
     "data": {
      "text/plain": "          org_id                                                url type.x  \\\nid                                                                           \n46021535  TX2394  https://www.petfinder.com/dog/brody-bear-46021...    Dog   \n46021378  TX2394  https://www.petfinder.com/dog/brody-46021378/c...    Dog   \n46021361  TX2394  https://www.petfinder.com/dog/daisey-may-46021...    Dog   \n46021331  TX2394  https://www.petfinder.com/dog/daisey-mae-46021...    Dog   \n46021276  TX2394  https://www.petfinder.com/dog/daisey-mae-3-460...    Dog   \n...          ...                                                ...    ...   \n41356403   VA634  https://www.petfinder.com/dog/willow-adoption-...    Dog   \n40924236   VA180  https://www.petfinder.com/dog/chuck-40924236/v...    Dog   \n38637037   WV193  https://www.petfinder.com/dog/rocky-38637037/w...    Dog   \n28351171   VA674  https://www.petfinder.com/dog/chauncey-2835117...    Dog   \n27329619    WV86  https://www.petfinder.com/dog/sierra-27329619/...    Dog   \n\n         species             breed_primary breed_mixed breed_unknown     age  \\\nid                                                                             \n46021535     Dog                 Schnauzer        True         False    Baby   \n46021378     Dog                 Schnauzer        True         False    Baby   \n46021361     Dog                Weimaraner        True         False   Young   \n46021331     Dog                Weimaraner        True         False   Young   \n46021276     Dog                Weimaraner        True         False   Young   \n...          ...                       ...         ...           ...     ...   \n41356403     Dog         English Coonhound       False         False   Adult   \n40924236     Dog  Treeing Walker Coonhound        True         False    Baby   \n38637037     Dog                    Beagle       False         False   Adult   \n28351171     Dog                   Pointer        True         False   Adult   \n27329619     Dog                Cattle Dog       False         False  Senior   \n\n             sex    size  ... contact_city contact_state contact_zip  \\\nid                        ...                                          \n46021535    Male   Small  ...  Brattleboro            VT       05301   \n46021378    Male   Small  ...       Groton            CT       06340   \n46021361  Female  Medium  ...  Brattleboro            VT       05301   \n46021331  Female  Medium  ...       Boston            MA       02128   \n46021276  Female  Medium  ...       Groton            CT       06340   \n...          ...     ...  ...          ...           ...         ...   \n41356403  Female   Large  ...     Monterey            VA       24465   \n40924236    Male  Medium  ...      Radford            VA       24141   \n38637037    Male   Small  ...    Belington            WV       26250   \n28351171    Male   Large  ...   Pearisburg            VA       24134   \n27329619  Female  Medium  ...    Lewisburg            WV       24901   \n\n         contact_country stateQ    accessed type.y  \\\nid                                                   \n46021535              US     CT  2019-09-20    Dog   \n46021378              US     CT  2019-09-20    Dog   \n46021361              US     CT  2019-09-20    Dog   \n46021331              US     CT  2019-09-20    Dog   \n46021276              US     CT  2019-09-20    Dog   \n...                  ...    ...         ...    ...   \n41356403              US     WV  2019-09-20    Dog   \n40924236              US     WV  2019-09-20    Dog   \n38637037              US     WV  2019-09-20    Dog   \n28351171              US     WV  2019-09-20    Dog   \n27329619              US     WV  2019-09-20    Dog   \n\n                                                description gower_dbscan  \\\nid                                                                         \n46021535  Howdy! Caught you looking! My name is Brody!  ...          324   \n46021378  Howdy! Caught you looking! My name is Brody!  ...          324   \n46021361  Howdy! Caught you looking! My name is Daisey M...          324   \n46021331  Howdy! Caught you looking! My name is Daisey M...          324   \n46021276  Howdy! Caught you looking! My name is Daisey M...          324   \n...                                                     ...          ...   \n41356403  Introducing ......Willow -\\n\\nSweet, friendly,...         2752   \n40924236  Meet Chuck, our joyful, playful, our Treeing W...         2753   \n38637037  Meet Rocky, He is a 9 year old male Chihuahua ...         2754   \n28351171  Chauncey is a gentle giant who loves people an...         2755   \n27329619  January 2018   Sierra arrived May 1st, 2013, w...         2756   \n\n         label_count  \nid                    \n46021535         243  \n46021378         243  \n46021361         243  \n46021331         243  \n46021276         243  \n...              ...  \n41356403           1  \n40924236           1  \n38637037           1  \n28351171           1  \n27329619           1  \n\n[13729 rows x 30 columns]",
      "text/html": "<div>\n<style scoped>\n    .dataframe tbody tr th:only-of-type {\n        vertical-align: middle;\n    }\n\n    .dataframe tbody tr th {\n        vertical-align: top;\n    }\n\n    .dataframe thead th {\n        text-align: right;\n    }\n</style>\n<table border=\"1\" class=\"dataframe\">\n  <thead>\n    <tr style=\"text-align: right;\">\n      <th></th>\n      <th>org_id</th>\n      <th>url</th>\n      <th>type.x</th>\n      <th>species</th>\n      <th>breed_primary</th>\n      <th>breed_mixed</th>\n      <th>breed_unknown</th>\n      <th>age</th>\n      <th>sex</th>\n      <th>size</th>\n      <th>...</th>\n      <th>contact_city</th>\n      <th>contact_state</th>\n      <th>contact_zip</th>\n      <th>contact_country</th>\n      <th>stateQ</th>\n      <th>accessed</th>\n      <th>type.y</th>\n      <th>description</th>\n      <th>gower_dbscan</th>\n      <th>label_count</th>\n    </tr>\n    <tr>\n      <th>id</th>\n      <th></th>\n      <th></th>\n      <th></th>\n      <th></th>\n      <th></th>\n      <th></th>\n      <th></th>\n      <th></th>\n      <th></th>\n      <th></th>\n      <th></th>\n      <th></th>\n      <th></th>\n      <th></th>\n      <th></th>\n      <th></th>\n      <th></th>\n      <th></th>\n      <th></th>\n      <th></th>\n      <th></th>\n    </tr>\n  </thead>\n  <tbody>\n    <tr>\n      <th>46021535</th>\n      <td>TX2394</td>\n      <td>https://www.petfinder.com/dog/brody-bear-46021...</td>\n      <td>Dog</td>\n      <td>Dog</td>\n      <td>Schnauzer</td>\n      <td>True</td>\n      <td>False</td>\n      <td>Baby</td>\n      <td>Male</td>\n      <td>Small</td>\n      <td>...</td>\n      <td>Brattleboro</td>\n      <td>VT</td>\n      <td>05301</td>\n      <td>US</td>\n      <td>CT</td>\n      <td>2019-09-20</td>\n      <td>Dog</td>\n      <td>Howdy! Caught you looking! My name is Brody!  ...</td>\n      <td>324</td>\n      <td>243</td>\n    </tr>\n    <tr>\n      <th>46021378</th>\n      <td>TX2394</td>\n      <td>https://www.petfinder.com/dog/brody-46021378/c...</td>\n      <td>Dog</td>\n      <td>Dog</td>\n      <td>Schnauzer</td>\n      <td>True</td>\n      <td>False</td>\n      <td>Baby</td>\n      <td>Male</td>\n      <td>Small</td>\n      <td>...</td>\n      <td>Groton</td>\n      <td>CT</td>\n      <td>06340</td>\n      <td>US</td>\n      <td>CT</td>\n      <td>2019-09-20</td>\n      <td>Dog</td>\n      <td>Howdy! Caught you looking! My name is Brody!  ...</td>\n      <td>324</td>\n      <td>243</td>\n    </tr>\n    <tr>\n      <th>46021361</th>\n      <td>TX2394</td>\n      <td>https://www.petfinder.com/dog/daisey-may-46021...</td>\n      <td>Dog</td>\n      <td>Dog</td>\n      <td>Weimaraner</td>\n      <td>True</td>\n      <td>False</td>\n      <td>Young</td>\n      <td>Female</td>\n      <td>Medium</td>\n      <td>...</td>\n      <td>Brattleboro</td>\n      <td>VT</td>\n      <td>05301</td>\n      <td>US</td>\n      <td>CT</td>\n      <td>2019-09-20</td>\n      <td>Dog</td>\n      <td>Howdy! Caught you looking! My name is Daisey M...</td>\n      <td>324</td>\n      <td>243</td>\n    </tr>\n    <tr>\n      <th>46021331</th>\n      <td>TX2394</td>\n      <td>https://www.petfinder.com/dog/daisey-mae-46021...</td>\n      <td>Dog</td>\n      <td>Dog</td>\n      <td>Weimaraner</td>\n      <td>True</td>\n      <td>False</td>\n      <td>Young</td>\n      <td>Female</td>\n      <td>Medium</td>\n      <td>...</td>\n      <td>Boston</td>\n      <td>MA</td>\n      <td>02128</td>\n      <td>US</td>\n      <td>CT</td>\n      <td>2019-09-20</td>\n      <td>Dog</td>\n      <td>Howdy! Caught you looking! My name is Daisey M...</td>\n      <td>324</td>\n      <td>243</td>\n    </tr>\n    <tr>\n      <th>46021276</th>\n      <td>TX2394</td>\n      <td>https://www.petfinder.com/dog/daisey-mae-3-460...</td>\n      <td>Dog</td>\n      <td>Dog</td>\n      <td>Weimaraner</td>\n      <td>True</td>\n      <td>False</td>\n      <td>Young</td>\n      <td>Female</td>\n      <td>Medium</td>\n      <td>...</td>\n      <td>Groton</td>\n      <td>CT</td>\n      <td>06340</td>\n      <td>US</td>\n      <td>CT</td>\n      <td>2019-09-20</td>\n      <td>Dog</td>\n      <td>Howdy! Caught you looking! My name is Daisey M...</td>\n      <td>324</td>\n      <td>243</td>\n    </tr>\n    <tr>\n      <th>...</th>\n      <td>...</td>\n      <td>...</td>\n      <td>...</td>\n      <td>...</td>\n      <td>...</td>\n      <td>...</td>\n      <td>...</td>\n      <td>...</td>\n      <td>...</td>\n      <td>...</td>\n      <td>...</td>\n      <td>...</td>\n      <td>...</td>\n      <td>...</td>\n      <td>...</td>\n      <td>...</td>\n      <td>...</td>\n      <td>...</td>\n      <td>...</td>\n      <td>...</td>\n      <td>...</td>\n    </tr>\n    <tr>\n      <th>41356403</th>\n      <td>VA634</td>\n      <td>https://www.petfinder.com/dog/willow-adoption-...</td>\n      <td>Dog</td>\n      <td>Dog</td>\n      <td>English Coonhound</td>\n      <td>False</td>\n      <td>False</td>\n      <td>Adult</td>\n      <td>Female</td>\n      <td>Large</td>\n      <td>...</td>\n      <td>Monterey</td>\n      <td>VA</td>\n      <td>24465</td>\n      <td>US</td>\n      <td>WV</td>\n      <td>2019-09-20</td>\n      <td>Dog</td>\n      <td>Introducing ......Willow -\\n\\nSweet, friendly,...</td>\n      <td>2752</td>\n      <td>1</td>\n    </tr>\n    <tr>\n      <th>40924236</th>\n      <td>VA180</td>\n      <td>https://www.petfinder.com/dog/chuck-40924236/v...</td>\n      <td>Dog</td>\n      <td>Dog</td>\n      <td>Treeing Walker Coonhound</td>\n      <td>True</td>\n      <td>False</td>\n      <td>Baby</td>\n      <td>Male</td>\n      <td>Medium</td>\n      <td>...</td>\n      <td>Radford</td>\n      <td>VA</td>\n      <td>24141</td>\n      <td>US</td>\n      <td>WV</td>\n      <td>2019-09-20</td>\n      <td>Dog</td>\n      <td>Meet Chuck, our joyful, playful, our Treeing W...</td>\n      <td>2753</td>\n      <td>1</td>\n    </tr>\n    <tr>\n      <th>38637037</th>\n      <td>WV193</td>\n      <td>https://www.petfinder.com/dog/rocky-38637037/w...</td>\n      <td>Dog</td>\n      <td>Dog</td>\n      <td>Beagle</td>\n      <td>False</td>\n      <td>False</td>\n      <td>Adult</td>\n      <td>Male</td>\n      <td>Small</td>\n      <td>...</td>\n      <td>Belington</td>\n      <td>WV</td>\n      <td>26250</td>\n      <td>US</td>\n      <td>WV</td>\n      <td>2019-09-20</td>\n      <td>Dog</td>\n      <td>Meet Rocky, He is a 9 year old male Chihuahua ...</td>\n      <td>2754</td>\n      <td>1</td>\n    </tr>\n    <tr>\n      <th>28351171</th>\n      <td>VA674</td>\n      <td>https://www.petfinder.com/dog/chauncey-2835117...</td>\n      <td>Dog</td>\n      <td>Dog</td>\n      <td>Pointer</td>\n      <td>True</td>\n      <td>False</td>\n      <td>Adult</td>\n      <td>Male</td>\n      <td>Large</td>\n      <td>...</td>\n      <td>Pearisburg</td>\n      <td>VA</td>\n      <td>24134</td>\n      <td>US</td>\n      <td>WV</td>\n      <td>2019-09-20</td>\n      <td>Dog</td>\n      <td>Chauncey is a gentle giant who loves people an...</td>\n      <td>2755</td>\n      <td>1</td>\n    </tr>\n    <tr>\n      <th>27329619</th>\n      <td>WV86</td>\n      <td>https://www.petfinder.com/dog/sierra-27329619/...</td>\n      <td>Dog</td>\n      <td>Dog</td>\n      <td>Cattle Dog</td>\n      <td>False</td>\n      <td>False</td>\n      <td>Senior</td>\n      <td>Female</td>\n      <td>Medium</td>\n      <td>...</td>\n      <td>Lewisburg</td>\n      <td>WV</td>\n      <td>24901</td>\n      <td>US</td>\n      <td>WV</td>\n      <td>2019-09-20</td>\n      <td>Dog</td>\n      <td>January 2018   Sierra arrived May 1st, 2013, w...</td>\n      <td>2756</td>\n      <td>1</td>\n    </tr>\n  </tbody>\n</table>\n<p>13729 rows × 30 columns</p>\n</div>"
     },
     "execution_count": 5,
     "metadata": {},
     "output_type": "execute_result"
    }
   ],
   "source": [
    "dd = pd.read_csv(\"dog_adoption/allDogDescriptions.csv\", index_col=0)\n",
    "dd.set_index(\"id\", inplace=True, drop=True)\n",
    "\n",
    "\n",
    "# get rid of columns with the most destructive nans\n",
    "\n",
    "def isolate_nans(column):\n",
    "    all_other_nans = nans[[c for c in cols if c != column]].sum(axis=1)\n",
    "    mask = all_other_nans < np.median(all_other_nans)\n",
    "    mask &= nans[column]\n",
    "    return mask.sum()\n",
    "\n",
    "\n",
    "nans = dd.isna()\n",
    "cols = dd.columns\n",
    "isolated_nans = {c: isolate_nans(c) for c in cols}\n",
    "median_count = np.median([v for v in isolated_nans.values() if v > 0])\n",
    "for column, count in isolated_nans.items():\n",
    "    if count > median_count:\n",
    "        print(column)\n",
    "        dd.drop(column, axis=1, inplace=True)\n",
    "dd.dropna(inplace=True)  # dd.mode().iloc[0]\n",
    "\n",
    "# make bools strings\n",
    "\n",
    "is_bool = dd.dtypes == bool\n",
    "dd.loc[:, is_bool] = dd[dd.columns[is_bool]].astype(str)\n",
    "\n",
    "matrix = gower_matrix(dd.to_numpy(), chunksize=20)\n",
    "samples = [{\"eps\": z / 100, \"min_samples\": 1} for z in range(1, 101)]\n",
    "results = process_map(partial(do_it, matrix=matrix), samples, chunksize=1)\n",
    "best_params = max(results, key=lambda z: z[1])\n",
    "print(best_params)\n",
    "dd[\"gower_dbscan\"] = DBSCAN(metric=\"precomputed\", **best_params[0]).fit_predict(matrix)\n",
    "print(get_cat_weight(dd[\"gower_dbscan\"]))\n",
    "_, counts = np.unique(dd[\"gower_dbscan\"], return_counts=True)\n",
    "print(np.unique(counts, return_counts=True))\n",
    "\n",
    "dd[\"label_count\"] = dd.groupby(\"gower_dbscan\").transform(\"count\").iloc[:, 0]\n",
    "dd.sort_values([\"label_count\", \"gower_dbscan\"], ascending=[False, True], inplace=True)\n",
    "dd\n"
   ],
   "metadata": {
    "collapsed": false,
    "ExecuteTime": {
     "start_time": "2023-03-30T21:09:44.333395Z",
     "end_time": "2023-03-30T21:15:17.941810Z"
    }
   }
  },
  {
   "cell_type": "markdown",
   "source": [
    "# Laptops dataset"
   ],
   "metadata": {
    "collapsed": false
   }
  },
  {
   "cell_type": "code",
   "execution_count": 7,
   "outputs": [
    {
     "name": "stdout",
     "output_type": "stream",
     "text": [
      "(977, 12)\n",
      "Model Name                  488\n",
      "Category                      6\n",
      "Screen Size                  18\n",
      "Screen                       38\n",
      "CPU                         106\n",
      "RAM                           8\n",
      " Storage                     36\n",
      "GPU                          98\n",
      "Operating System              7\n",
      "Operating System Version      5\n",
      "Weight                      166\n",
      "Price                       639\n",
      "dtype: int64\n"
     ]
    },
    {
     "data": {
      "text/plain": "  0%|          | 0/10 [00:00<?, ?it/s]",
      "application/vnd.jupyter.widget-view+json": {
       "version_major": 2,
       "version_minor": 0,
       "model_id": "1079d85a09984e7bafc3eb9c52b008dc"
      }
     },
     "metadata": {},
     "output_type": "display_data"
    },
    {
     "data": {
      "text/plain": "  0%|          | 0/1 [00:00<?, ?it/s]",
      "application/vnd.jupyter.widget-view+json": {
       "version_major": 2,
       "version_minor": 0,
       "model_id": "9f05bd11e94649a4b913f326ddbea7a4"
      }
     },
     "metadata": {},
     "output_type": "display_data"
    },
    {
     "data": {
      "text/plain": "  0%|          | 0/977 [00:00<?, ?it/s]",
      "application/vnd.jupyter.widget-view+json": {
       "version_major": 2,
       "version_minor": 0,
       "model_id": "65ad9e37419f4bb98381f88978d30623"
      }
     },
     "metadata": {},
     "output_type": "display_data"
    },
    {
     "data": {
      "text/plain": "  0%|          | 0/1000 [00:00<?, ?it/s]",
      "application/vnd.jupyter.widget-view+json": {
       "version_major": 2,
       "version_minor": 0,
       "model_id": "80bb4462109f4f28b6ce300cbb2ef24a"
      }
     },
     "metadata": {},
     "output_type": "display_data"
    },
    {
     "name": "stdout",
     "output_type": "stream",
     "text": [
      "({'eps': 0.221, 'min_samples': 1}, 0.7545701429779311)\n",
      "(array([  1,   2,   3,   4,   5,   6,   7,   8,   9,  10,  21, 101, 106,\n",
      "       219]), array([260,  46,  15,   6,   3,   6,   1,   4,   1,   1,   1,   1,   1,\n",
      "         1]))\n"
     ]
    },
    {
     "data": {
      "text/plain": "                       Model Name            Category Screen Size  \\\nManufacturer                                                        \nHP                         250 G6            Notebook       15.6\"   \nAcer                     Aspire 3            Notebook       15.6\"   \nHP                         250 G6            Notebook       15.6\"   \nHP                         250 G6            Notebook       15.6\"   \nDell                Inspiron 3567            Notebook       15.6\"   \n...                           ...                 ...         ...   \nHP                   ProBook x360  2 in 1 Convertible       11.6\"   \nDell                       XPS 13           Ultrabook       13.3\"   \nAcer          Aspire F5-573G-510L            Notebook       15.6\"   \nHP                    Probook 450            Notebook       15.6\"   \nLenovo              ThinkPad T460            Notebook       14.0\"   \n\n                                   Screen  \\\nManufacturer                                \nHP                      Full HD 1920x1080   \nAcer                             1366x768   \nHP                               1366x768   \nHP                      Full HD 1920x1080   \nDell                    Full HD 1920x1080   \n...                                   ...   \nHP                   Touchscreen 1366x768   \nDell                   Quad HD+ 3200x1800   \nAcer                    Full HD 1920x1080   \nHP            IPS Panel Full HD 1920x1080   \nLenovo                           1366x768   \n\n                                               CPU   RAM  \\\nManufacturer                                               \nHP                      Intel Core i5 7200U 2.5GHz   8GB   \nAcer                       AMD A9-Series 9420 3GHz   4GB   \nHP                      Intel Core i5 7200U 2.5GHz   4GB   \nHP                        Intel Core i3 6006U 2GHz   4GB   \nDell                      Intel Core i3 6006U 2GHz   4GB   \n...                                            ...   ...   \nHP            Intel Pentium Quad Core N4200 1.1GHz   4GB   \nDell                    Intel Core i7 6500U 2.5GHz   8GB   \nAcer                    Intel Core i5 7200U 2.5GHz  12GB   \nHP                     Intel Core i5 7200U 2.70GHz   8GB   \nLenovo                  Intel Core i5 6200U 2.3GHz   4GB   \n\n                           Storage                      GPU Operating System  \\\nManufacturer                                                                   \nHP                       256GB SSD    Intel HD Graphics 620            No OS   \nAcer                     500GB HDD            AMD Radeon R5          Windows   \nHP                       500GB HDD    Intel HD Graphics 620            No OS   \nHP                       500GB HDD    Intel HD Graphics 520            No OS   \nDell                     256GB SSD       AMD Radeon R5 M430          Windows   \n...                            ...                      ...              ...   \nHP                       256GB SSD    Intel HD Graphics 505          Windows   \nDell                     256GB SSD    Intel HD Graphics 520          Windows   \nAcer          128GB SSD +  1TB HDD  Nvidia GeForce GTX 950M          Windows   \nHP            128GB SSD +  1TB HDD     Nvidia GeForce 930MX          Windows   \nLenovo                508GB Hybrid    Intel HD Graphics 520          Windows   \n\n              Weight        Price  gower_dbscan  label_count  \nManufacturer                                                  \nHP            1.86kg   5112900.00             2          219  \nAcer           2.1kg   3556800.00             2          219  \nHP            1.86kg   3502558.80             2          219  \nHP            1.86kg   3067651.08             2          219  \nDell           2.2kg   4436218.80             2          219  \n...              ...          ...           ...          ...  \nHP            1.45kg   6891300.00           342            1  \nDell           1.3kg  11275056.00           343            1  \nAcer           2.4kg   8972028.00           344            1  \nHP            2.04kg   8705268.00           345            1  \nLenovo        1.70kg   8909784.00           346            1  \n\n[977 rows x 13 columns]",
      "text/html": "<div>\n<style scoped>\n    .dataframe tbody tr th:only-of-type {\n        vertical-align: middle;\n    }\n\n    .dataframe tbody tr th {\n        vertical-align: top;\n    }\n\n    .dataframe thead th {\n        text-align: right;\n    }\n</style>\n<table border=\"1\" class=\"dataframe\">\n  <thead>\n    <tr style=\"text-align: right;\">\n      <th></th>\n      <th>Model Name</th>\n      <th>Category</th>\n      <th>Screen Size</th>\n      <th>Screen</th>\n      <th>CPU</th>\n      <th>RAM</th>\n      <th>Storage</th>\n      <th>GPU</th>\n      <th>Operating System</th>\n      <th>Weight</th>\n      <th>Price</th>\n      <th>gower_dbscan</th>\n      <th>label_count</th>\n    </tr>\n    <tr>\n      <th>Manufacturer</th>\n      <th></th>\n      <th></th>\n      <th></th>\n      <th></th>\n      <th></th>\n      <th></th>\n      <th></th>\n      <th></th>\n      <th></th>\n      <th></th>\n      <th></th>\n      <th></th>\n      <th></th>\n    </tr>\n  </thead>\n  <tbody>\n    <tr>\n      <th>HP</th>\n      <td>250 G6</td>\n      <td>Notebook</td>\n      <td>15.6\"</td>\n      <td>Full HD 1920x1080</td>\n      <td>Intel Core i5 7200U 2.5GHz</td>\n      <td>8GB</td>\n      <td>256GB SSD</td>\n      <td>Intel HD Graphics 620</td>\n      <td>No OS</td>\n      <td>1.86kg</td>\n      <td>5112900.00</td>\n      <td>2</td>\n      <td>219</td>\n    </tr>\n    <tr>\n      <th>Acer</th>\n      <td>Aspire 3</td>\n      <td>Notebook</td>\n      <td>15.6\"</td>\n      <td>1366x768</td>\n      <td>AMD A9-Series 9420 3GHz</td>\n      <td>4GB</td>\n      <td>500GB HDD</td>\n      <td>AMD Radeon R5</td>\n      <td>Windows</td>\n      <td>2.1kg</td>\n      <td>3556800.00</td>\n      <td>2</td>\n      <td>219</td>\n    </tr>\n    <tr>\n      <th>HP</th>\n      <td>250 G6</td>\n      <td>Notebook</td>\n      <td>15.6\"</td>\n      <td>1366x768</td>\n      <td>Intel Core i5 7200U 2.5GHz</td>\n      <td>4GB</td>\n      <td>500GB HDD</td>\n      <td>Intel HD Graphics 620</td>\n      <td>No OS</td>\n      <td>1.86kg</td>\n      <td>3502558.80</td>\n      <td>2</td>\n      <td>219</td>\n    </tr>\n    <tr>\n      <th>HP</th>\n      <td>250 G6</td>\n      <td>Notebook</td>\n      <td>15.6\"</td>\n      <td>Full HD 1920x1080</td>\n      <td>Intel Core i3 6006U 2GHz</td>\n      <td>4GB</td>\n      <td>500GB HDD</td>\n      <td>Intel HD Graphics 520</td>\n      <td>No OS</td>\n      <td>1.86kg</td>\n      <td>3067651.08</td>\n      <td>2</td>\n      <td>219</td>\n    </tr>\n    <tr>\n      <th>Dell</th>\n      <td>Inspiron 3567</td>\n      <td>Notebook</td>\n      <td>15.6\"</td>\n      <td>Full HD 1920x1080</td>\n      <td>Intel Core i3 6006U 2GHz</td>\n      <td>4GB</td>\n      <td>256GB SSD</td>\n      <td>AMD Radeon R5 M430</td>\n      <td>Windows</td>\n      <td>2.2kg</td>\n      <td>4436218.80</td>\n      <td>2</td>\n      <td>219</td>\n    </tr>\n    <tr>\n      <th>...</th>\n      <td>...</td>\n      <td>...</td>\n      <td>...</td>\n      <td>...</td>\n      <td>...</td>\n      <td>...</td>\n      <td>...</td>\n      <td>...</td>\n      <td>...</td>\n      <td>...</td>\n      <td>...</td>\n      <td>...</td>\n      <td>...</td>\n    </tr>\n    <tr>\n      <th>HP</th>\n      <td>ProBook x360</td>\n      <td>2 in 1 Convertible</td>\n      <td>11.6\"</td>\n      <td>Touchscreen 1366x768</td>\n      <td>Intel Pentium Quad Core N4200 1.1GHz</td>\n      <td>4GB</td>\n      <td>256GB SSD</td>\n      <td>Intel HD Graphics 505</td>\n      <td>Windows</td>\n      <td>1.45kg</td>\n      <td>6891300.00</td>\n      <td>342</td>\n      <td>1</td>\n    </tr>\n    <tr>\n      <th>Dell</th>\n      <td>XPS 13</td>\n      <td>Ultrabook</td>\n      <td>13.3\"</td>\n      <td>Quad HD+ 3200x1800</td>\n      <td>Intel Core i7 6500U 2.5GHz</td>\n      <td>8GB</td>\n      <td>256GB SSD</td>\n      <td>Intel HD Graphics 520</td>\n      <td>Windows</td>\n      <td>1.3kg</td>\n      <td>11275056.00</td>\n      <td>343</td>\n      <td>1</td>\n    </tr>\n    <tr>\n      <th>Acer</th>\n      <td>Aspire F5-573G-510L</td>\n      <td>Notebook</td>\n      <td>15.6\"</td>\n      <td>Full HD 1920x1080</td>\n      <td>Intel Core i5 7200U 2.5GHz</td>\n      <td>12GB</td>\n      <td>128GB SSD +  1TB HDD</td>\n      <td>Nvidia GeForce GTX 950M</td>\n      <td>Windows</td>\n      <td>2.4kg</td>\n      <td>8972028.00</td>\n      <td>344</td>\n      <td>1</td>\n    </tr>\n    <tr>\n      <th>HP</th>\n      <td>Probook 450</td>\n      <td>Notebook</td>\n      <td>15.6\"</td>\n      <td>IPS Panel Full HD 1920x1080</td>\n      <td>Intel Core i5 7200U 2.70GHz</td>\n      <td>8GB</td>\n      <td>128GB SSD +  1TB HDD</td>\n      <td>Nvidia GeForce 930MX</td>\n      <td>Windows</td>\n      <td>2.04kg</td>\n      <td>8705268.00</td>\n      <td>345</td>\n      <td>1</td>\n    </tr>\n    <tr>\n      <th>Lenovo</th>\n      <td>ThinkPad T460</td>\n      <td>Notebook</td>\n      <td>14.0\"</td>\n      <td>1366x768</td>\n      <td>Intel Core i5 6200U 2.3GHz</td>\n      <td>4GB</td>\n      <td>508GB Hybrid</td>\n      <td>Intel HD Graphics 520</td>\n      <td>Windows</td>\n      <td>1.70kg</td>\n      <td>8909784.00</td>\n      <td>346</td>\n      <td>1</td>\n    </tr>\n  </tbody>\n</table>\n<p>977 rows × 13 columns</p>\n</div>"
     },
     "execution_count": 7,
     "metadata": {},
     "output_type": "execute_result"
    }
   ],
   "source": [
    "laptops = pd.read_csv(\"laptops/laptops_train.csv\", index_col=0)\n",
    "print(laptops.shape)\n",
    "print(laptops.apply(lambda col: col.unique(), axis=0).apply(len))\n",
    "laptops.drop(\"Operating System Version\", axis=1, inplace=True)\n",
    "\n",
    "matrix3 = gower_matrix(laptops.to_numpy(), R=(25, 75), chunksize=20)\n",
    "samples = [{\"eps\": z / 1000, \"min_samples\": 1} for z in range(1, 1001)]\n",
    "results3 = process_map(partial(do_it, matrix=matrix3), samples, chunksize=20)\n",
    "best_params3 = max(results3, key=lambda z: z[1])\n",
    "print(best_params3)\n",
    "laptops[\"gower_dbscan\"] = DBSCAN(metric=\"precomputed\", **best_params3[0]).fit_predict(matrix3)\n",
    "_, counts3 = np.unique(laptops[\"gower_dbscan\"], return_counts=True)\n",
    "print(np.unique(counts3, return_counts=True))\n",
    "\n",
    "laptops[\"label_count\"] = laptops.groupby(\"gower_dbscan\").transform(\"count\").iloc[:, 0]\n",
    "laptops.sort_values([\"label_count\", \"gower_dbscan\"], ascending=[False, True], inplace=True)\n",
    "laptops\n"
   ],
   "metadata": {
    "collapsed": false
   }
  },
  {
   "cell_type": "markdown",
   "source": [
    "# Pokemon dataset"
   ],
   "metadata": {
    "collapsed": false
   }
  },
  {
   "cell_type": "code",
   "execution_count": 6,
   "outputs": [
    {
     "data": {
      "text/plain": "  0%|          | 0/10 [00:00<?, ?it/s]",
      "application/vnd.jupyter.widget-view+json": {
       "version_major": 2,
       "version_minor": 0,
       "model_id": "50dc40d5502e4261b0356000dc605b09"
      }
     },
     "metadata": {},
     "output_type": "display_data"
    },
    {
     "data": {
      "text/plain": "  0%|          | 0/13 [00:00<?, ?it/s]",
      "application/vnd.jupyter.widget-view+json": {
       "version_major": 2,
       "version_minor": 0,
       "model_id": "ba681ea0d052433da8d4e45e76d1d6c8"
      }
     },
     "metadata": {},
     "output_type": "display_data"
    },
    {
     "data": {
      "text/plain": "  0%|          | 0/721 [00:00<?, ?it/s]",
      "application/vnd.jupyter.widget-view+json": {
       "version_major": 2,
       "version_minor": 0,
       "model_id": "42c6760bda7e4ff68937fbb44188f321"
      }
     },
     "metadata": {},
     "output_type": "display_data"
    },
    {
     "data": {
      "text/plain": "  0%|          | 0/1000 [00:00<?, ?it/s]",
      "application/vnd.jupyter.widget-view+json": {
       "version_major": 2,
       "version_minor": 0,
       "model_id": "1b30edd577fb420da71c0bae3917e1f0"
      }
     },
     "metadata": {},
     "output_type": "display_data"
    },
    {
     "name": "stdout",
     "output_type": "stream",
     "text": [
      "({'eps': 0.1, 'min_samples': 1}, 0.6256569470623685)\n",
      "(array([  1,   2,   3,   4,   5,   6,   9,  10, 211]), array([322,  41,  12,   2,   3,   3,   1,   2,   1]))\n"
     ]
    },
    {
     "data": {
      "text/plain": "     Number        Name   Type_1  Type_2  Total   HP  Attack  Defense  Sp_Atk  \\\n0         1   Bulbasaur    Grass  Poison    318   45      49       49      65   \n1         2     Ivysaur    Grass  Poison    405   60      62       63      80   \n2         3    Venusaur    Grass  Poison    525   80      82       83     100   \n3         4  Charmander     Fire    none    309   39      52       43      60   \n4         5  Charmeleon     Fire    none    405   58      64       58      80   \n..      ...         ...      ...     ...    ...  ...     ...      ...     ...   \n713     714      Noibat   Flying  Dragon    245   40      30       35      45   \n717     718     Zygarde   Dragon  Ground    600  108     100      121      81   \n718     719     Diancie     Rock   Fairy    600   50     100      150     100   \n719     720       Hoopa  Psychic   Ghost    600   80     110       60     150   \n720     721   Volcanion     Fire   Water    600   80     110      120     130   \n\n     Sp_Def  ...  Pr_Male   Egg_Group_1 Egg_Group_2 hasMegaEvolution Height_m  \\\n0        65  ...    0.875       Monster       Grass            False     0.71   \n1        80  ...    0.875       Monster       Grass            False     0.99   \n2       100  ...    0.875       Monster       Grass             True     2.01   \n3        50  ...    0.875       Monster      Dragon            False     0.61   \n4        65  ...    0.875       Monster      Dragon            False     1.09   \n..      ...  ...      ...           ...         ...              ...      ...   \n713      40  ...    0.500        Flying        none            False     0.51   \n717      95  ...    0.500  Undiscovered        none            False     5.00   \n718     150  ...    0.500  Undiscovered        none             True     0.71   \n719     130  ...    0.500  Undiscovered        none            False     0.51   \n720      90  ...    0.500  Undiscovered        none            False     1.70   \n\n     Weight_kg Catch_Rate       Body_Style gower_dbscan  label_count  \n0          6.9         45        quadruped            0          211  \n1         13.0         45        quadruped            0          211  \n2        100.0         45        quadruped            0          211  \n3          8.5         45   bipedal_tailed            0          211  \n4         19.0         45   bipedal_tailed            0          211  \n..         ...        ...              ...          ...          ...  \n713        8.0        190        two_wings          381            1  \n717      305.0          3  serpentine_body          383            1  \n718        8.8          3        head_arms          384            1  \n719        9.0          3        head_only          385            1  \n720      195.0          3        quadruped          386            1  \n\n[721 rows x 25 columns]",
      "text/html": "<div>\n<style scoped>\n    .dataframe tbody tr th:only-of-type {\n        vertical-align: middle;\n    }\n\n    .dataframe tbody tr th {\n        vertical-align: top;\n    }\n\n    .dataframe thead th {\n        text-align: right;\n    }\n</style>\n<table border=\"1\" class=\"dataframe\">\n  <thead>\n    <tr style=\"text-align: right;\">\n      <th></th>\n      <th>Number</th>\n      <th>Name</th>\n      <th>Type_1</th>\n      <th>Type_2</th>\n      <th>Total</th>\n      <th>HP</th>\n      <th>Attack</th>\n      <th>Defense</th>\n      <th>Sp_Atk</th>\n      <th>Sp_Def</th>\n      <th>...</th>\n      <th>Pr_Male</th>\n      <th>Egg_Group_1</th>\n      <th>Egg_Group_2</th>\n      <th>hasMegaEvolution</th>\n      <th>Height_m</th>\n      <th>Weight_kg</th>\n      <th>Catch_Rate</th>\n      <th>Body_Style</th>\n      <th>gower_dbscan</th>\n      <th>label_count</th>\n    </tr>\n  </thead>\n  <tbody>\n    <tr>\n      <th>0</th>\n      <td>1</td>\n      <td>Bulbasaur</td>\n      <td>Grass</td>\n      <td>Poison</td>\n      <td>318</td>\n      <td>45</td>\n      <td>49</td>\n      <td>49</td>\n      <td>65</td>\n      <td>65</td>\n      <td>...</td>\n      <td>0.875</td>\n      <td>Monster</td>\n      <td>Grass</td>\n      <td>False</td>\n      <td>0.71</td>\n      <td>6.9</td>\n      <td>45</td>\n      <td>quadruped</td>\n      <td>0</td>\n      <td>211</td>\n    </tr>\n    <tr>\n      <th>1</th>\n      <td>2</td>\n      <td>Ivysaur</td>\n      <td>Grass</td>\n      <td>Poison</td>\n      <td>405</td>\n      <td>60</td>\n      <td>62</td>\n      <td>63</td>\n      <td>80</td>\n      <td>80</td>\n      <td>...</td>\n      <td>0.875</td>\n      <td>Monster</td>\n      <td>Grass</td>\n      <td>False</td>\n      <td>0.99</td>\n      <td>13.0</td>\n      <td>45</td>\n      <td>quadruped</td>\n      <td>0</td>\n      <td>211</td>\n    </tr>\n    <tr>\n      <th>2</th>\n      <td>3</td>\n      <td>Venusaur</td>\n      <td>Grass</td>\n      <td>Poison</td>\n      <td>525</td>\n      <td>80</td>\n      <td>82</td>\n      <td>83</td>\n      <td>100</td>\n      <td>100</td>\n      <td>...</td>\n      <td>0.875</td>\n      <td>Monster</td>\n      <td>Grass</td>\n      <td>True</td>\n      <td>2.01</td>\n      <td>100.0</td>\n      <td>45</td>\n      <td>quadruped</td>\n      <td>0</td>\n      <td>211</td>\n    </tr>\n    <tr>\n      <th>3</th>\n      <td>4</td>\n      <td>Charmander</td>\n      <td>Fire</td>\n      <td>none</td>\n      <td>309</td>\n      <td>39</td>\n      <td>52</td>\n      <td>43</td>\n      <td>60</td>\n      <td>50</td>\n      <td>...</td>\n      <td>0.875</td>\n      <td>Monster</td>\n      <td>Dragon</td>\n      <td>False</td>\n      <td>0.61</td>\n      <td>8.5</td>\n      <td>45</td>\n      <td>bipedal_tailed</td>\n      <td>0</td>\n      <td>211</td>\n    </tr>\n    <tr>\n      <th>4</th>\n      <td>5</td>\n      <td>Charmeleon</td>\n      <td>Fire</td>\n      <td>none</td>\n      <td>405</td>\n      <td>58</td>\n      <td>64</td>\n      <td>58</td>\n      <td>80</td>\n      <td>65</td>\n      <td>...</td>\n      <td>0.875</td>\n      <td>Monster</td>\n      <td>Dragon</td>\n      <td>False</td>\n      <td>1.09</td>\n      <td>19.0</td>\n      <td>45</td>\n      <td>bipedal_tailed</td>\n      <td>0</td>\n      <td>211</td>\n    </tr>\n    <tr>\n      <th>...</th>\n      <td>...</td>\n      <td>...</td>\n      <td>...</td>\n      <td>...</td>\n      <td>...</td>\n      <td>...</td>\n      <td>...</td>\n      <td>...</td>\n      <td>...</td>\n      <td>...</td>\n      <td>...</td>\n      <td>...</td>\n      <td>...</td>\n      <td>...</td>\n      <td>...</td>\n      <td>...</td>\n      <td>...</td>\n      <td>...</td>\n      <td>...</td>\n      <td>...</td>\n      <td>...</td>\n    </tr>\n    <tr>\n      <th>713</th>\n      <td>714</td>\n      <td>Noibat</td>\n      <td>Flying</td>\n      <td>Dragon</td>\n      <td>245</td>\n      <td>40</td>\n      <td>30</td>\n      <td>35</td>\n      <td>45</td>\n      <td>40</td>\n      <td>...</td>\n      <td>0.500</td>\n      <td>Flying</td>\n      <td>none</td>\n      <td>False</td>\n      <td>0.51</td>\n      <td>8.0</td>\n      <td>190</td>\n      <td>two_wings</td>\n      <td>381</td>\n      <td>1</td>\n    </tr>\n    <tr>\n      <th>717</th>\n      <td>718</td>\n      <td>Zygarde</td>\n      <td>Dragon</td>\n      <td>Ground</td>\n      <td>600</td>\n      <td>108</td>\n      <td>100</td>\n      <td>121</td>\n      <td>81</td>\n      <td>95</td>\n      <td>...</td>\n      <td>0.500</td>\n      <td>Undiscovered</td>\n      <td>none</td>\n      <td>False</td>\n      <td>5.00</td>\n      <td>305.0</td>\n      <td>3</td>\n      <td>serpentine_body</td>\n      <td>383</td>\n      <td>1</td>\n    </tr>\n    <tr>\n      <th>718</th>\n      <td>719</td>\n      <td>Diancie</td>\n      <td>Rock</td>\n      <td>Fairy</td>\n      <td>600</td>\n      <td>50</td>\n      <td>100</td>\n      <td>150</td>\n      <td>100</td>\n      <td>150</td>\n      <td>...</td>\n      <td>0.500</td>\n      <td>Undiscovered</td>\n      <td>none</td>\n      <td>True</td>\n      <td>0.71</td>\n      <td>8.8</td>\n      <td>3</td>\n      <td>head_arms</td>\n      <td>384</td>\n      <td>1</td>\n    </tr>\n    <tr>\n      <th>719</th>\n      <td>720</td>\n      <td>Hoopa</td>\n      <td>Psychic</td>\n      <td>Ghost</td>\n      <td>600</td>\n      <td>80</td>\n      <td>110</td>\n      <td>60</td>\n      <td>150</td>\n      <td>130</td>\n      <td>...</td>\n      <td>0.500</td>\n      <td>Undiscovered</td>\n      <td>none</td>\n      <td>False</td>\n      <td>0.51</td>\n      <td>9.0</td>\n      <td>3</td>\n      <td>head_only</td>\n      <td>385</td>\n      <td>1</td>\n    </tr>\n    <tr>\n      <th>720</th>\n      <td>721</td>\n      <td>Volcanion</td>\n      <td>Fire</td>\n      <td>Water</td>\n      <td>600</td>\n      <td>80</td>\n      <td>110</td>\n      <td>120</td>\n      <td>130</td>\n      <td>90</td>\n      <td>...</td>\n      <td>0.500</td>\n      <td>Undiscovered</td>\n      <td>none</td>\n      <td>False</td>\n      <td>1.70</td>\n      <td>195.0</td>\n      <td>3</td>\n      <td>quadruped</td>\n      <td>386</td>\n      <td>1</td>\n    </tr>\n  </tbody>\n</table>\n<p>721 rows × 25 columns</p>\n</div>"
     },
     "execution_count": 6,
     "metadata": {},
     "output_type": "execute_result"
    }
   ],
   "source": [
    "pokemon = pd.read_csv(\"pokemon/pokemon_alopez247.csv\")\n",
    "for c in pokemon.columns[pokemon.dtypes != object]:\n",
    "    pokemon.loc[pokemon[c].isna(), c] = np.nanmedian(pokemon[c])\n",
    "for c in pokemon.columns[pokemon.dtypes == object]:\n",
    "    pokemon.loc[pokemon[c].isna(), c] = \"none\"\n",
    "\n",
    "matrix2 = gower_matrix(pokemon.to_numpy(), chunksize=20)\n",
    "samples = [{\"eps\": z / 100, \"min_samples\": 1} for z in range(1, 1001)]\n",
    "results2 = process_map(partial(do_it, matrix=matrix2), samples, chunksize=20)\n",
    "best_params2 = max(results2, key=lambda z: z[1])\n",
    "print(best_params2)\n",
    "pokemon[\"gower_dbscan\"] = DBSCAN(metric=\"precomputed\", **best_params2[0]).fit_predict(matrix2)\n",
    "_, counts2 = np.unique(pokemon[\"gower_dbscan\"], return_counts=True)\n",
    "print(np.unique(counts2, return_counts=True))\n",
    "\n",
    "pokemon[\"label_count\"] = pokemon.groupby(\"gower_dbscan\").transform(\"count\").iloc[:, 0]\n",
    "pokemon.sort_values([\"label_count\", \"gower_dbscan\"], ascending=[False, True], inplace=True)\n",
    "pokemon\n"
   ],
   "metadata": {
    "collapsed": false
   }
  },
  {
   "cell_type": "code",
   "execution_count": 7,
   "outputs": [],
   "source": [],
   "metadata": {
    "collapsed": false,
    "ExecuteTime": {
     "start_time": "2023-03-30T21:15:35.793434Z",
     "end_time": "2023-03-30T21:15:35.795486Z"
    }
   }
  }
 ],
 "metadata": {
  "kernelspec": {
   "display_name": "Python 3",
   "language": "python",
   "name": "python3"
  },
  "language_info": {
   "codemirror_mode": {
    "name": "ipython",
    "version": 2
   },
   "file_extension": ".py",
   "mimetype": "text/x-python",
   "name": "python",
   "nbconvert_exporter": "python",
   "pygments_lexer": "ipython2",
   "version": "2.7.6"
  }
 },
 "nbformat": 4,
 "nbformat_minor": 0
}
