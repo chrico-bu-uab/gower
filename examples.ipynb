{
 "cells": [
  {
   "cell_type": "code",
   "execution_count": 1,
   "metadata": {
    "collapsed": true
   },
   "outputs": [],
   "source": [
    "import matplotlib.colors as mcolors\n",
    "import matplotlib.pyplot as plt\n",
    "import pandas as pd\n",
    "from sklearn.cluster import DBSCAN\n",
    "\n",
    "from gower.gower_dist import *"
   ]
  },
  {
   "cell_type": "markdown",
   "source": [
    "# Simple example from D'Orazio"
   ],
   "metadata": {
    "collapsed": false
   },
   "outputs": []
  },
  {
   "cell_type": "code",
   "execution_count": 2,
   "outputs": [
    {
     "data": {
      "text/plain": "  Sex1 Sex2  Age1  Age2\n0    M    M    15    15\n1    M    M    15    36\n2    F    F    15    58\n3    F    F    15    78\n4    F    F    15   100\n5    M    F    15    15\n6    M    F    15    36\n7    F    M    15    58\n8    F    M    15    78\n9    F    M    15   100",
      "text/html": "<div>\n<style scoped>\n    .dataframe tbody tr th:only-of-type {\n        vertical-align: middle;\n    }\n\n    .dataframe tbody tr th {\n        vertical-align: top;\n    }\n\n    .dataframe thead th {\n        text-align: right;\n    }\n</style>\n<table border=\"1\" class=\"dataframe\">\n  <thead>\n    <tr style=\"text-align: right;\">\n      <th></th>\n      <th>Sex1</th>\n      <th>Sex2</th>\n      <th>Age1</th>\n      <th>Age2</th>\n    </tr>\n  </thead>\n  <tbody>\n    <tr>\n      <th>0</th>\n      <td>M</td>\n      <td>M</td>\n      <td>15</td>\n      <td>15</td>\n    </tr>\n    <tr>\n      <th>1</th>\n      <td>M</td>\n      <td>M</td>\n      <td>15</td>\n      <td>36</td>\n    </tr>\n    <tr>\n      <th>2</th>\n      <td>F</td>\n      <td>F</td>\n      <td>15</td>\n      <td>58</td>\n    </tr>\n    <tr>\n      <th>3</th>\n      <td>F</td>\n      <td>F</td>\n      <td>15</td>\n      <td>78</td>\n    </tr>\n    <tr>\n      <th>4</th>\n      <td>F</td>\n      <td>F</td>\n      <td>15</td>\n      <td>100</td>\n    </tr>\n    <tr>\n      <th>5</th>\n      <td>M</td>\n      <td>F</td>\n      <td>15</td>\n      <td>15</td>\n    </tr>\n    <tr>\n      <th>6</th>\n      <td>M</td>\n      <td>F</td>\n      <td>15</td>\n      <td>36</td>\n    </tr>\n    <tr>\n      <th>7</th>\n      <td>F</td>\n      <td>M</td>\n      <td>15</td>\n      <td>58</td>\n    </tr>\n    <tr>\n      <th>8</th>\n      <td>F</td>\n      <td>M</td>\n      <td>15</td>\n      <td>78</td>\n    </tr>\n    <tr>\n      <th>9</th>\n      <td>F</td>\n      <td>M</td>\n      <td>15</td>\n      <td>100</td>\n    </tr>\n  </tbody>\n</table>\n</div>"
     },
     "execution_count": 2,
     "metadata": {},
     "output_type": "execute_result"
    }
   ],
   "source": [
    "df = pd.DataFrame({\"Sex1\": [\"M\", \"M\", \"F\", \"F\", \"F\", \"M\", \"M\", \"F\", \"F\", \"F\"],\n",
    "                   \"Sex2\": [\"M\", \"M\", \"F\", \"F\", \"F\", \"F\", \"F\", \"M\", \"M\", \"M\"],\n",
    "                   \"Age1\": [15] * 10,\n",
    "                   \"Age2\": [15, 36, 58, 78, 100, 15, 36, 58, 78, 100]})\n",
    "df"
   ],
   "metadata": {
    "collapsed": false
   }
  },
  {
   "cell_type": "code",
   "execution_count": 3,
   "outputs": [
    {
     "data": {
      "text/plain": "  0%|          | 0/10 [00:00<?, ?it/s]",
      "application/vnd.jupyter.widget-view+json": {
       "version_major": 2,
       "version_minor": 0,
       "model_id": "d04b8114e33148768dc35a7f98273ba1"
      }
     },
     "metadata": {},
     "output_type": "display_data"
    },
    {
     "name": "stdout",
     "output_type": "stream",
     "text": [
      "[0.         0.12352941 0.25294118 0.37058824 0.5        0.5\n",
      " 0.62352941 0.75294118 0.87058824 1.        ]\n"
     ]
    },
    {
     "data": {
      "text/plain": "  Sex1 Sex2  Age1  Age2\n0    M    M    15    15\n1    M    M    15    36\n2    F    F    15    58\n3    F    F    15    78\n4    F    F    15   100\n5    M    F    15    15\n6    M    F    15    36\n7    F    M    15    58\n8    F    M    15    78\n9    F    M    15   100",
      "text/html": "<div>\n<style scoped>\n    .dataframe tbody tr th:only-of-type {\n        vertical-align: middle;\n    }\n\n    .dataframe tbody tr th {\n        vertical-align: top;\n    }\n\n    .dataframe thead th {\n        text-align: right;\n    }\n</style>\n<table border=\"1\" class=\"dataframe\">\n  <thead>\n    <tr style=\"text-align: right;\">\n      <th></th>\n      <th>Sex1</th>\n      <th>Sex2</th>\n      <th>Age1</th>\n      <th>Age2</th>\n    </tr>\n  </thead>\n  <tbody>\n    <tr>\n      <th>0</th>\n      <td>M</td>\n      <td>M</td>\n      <td>15</td>\n      <td>15</td>\n    </tr>\n    <tr>\n      <th>1</th>\n      <td>M</td>\n      <td>M</td>\n      <td>15</td>\n      <td>36</td>\n    </tr>\n    <tr>\n      <th>2</th>\n      <td>F</td>\n      <td>F</td>\n      <td>15</td>\n      <td>58</td>\n    </tr>\n    <tr>\n      <th>3</th>\n      <td>F</td>\n      <td>F</td>\n      <td>15</td>\n      <td>78</td>\n    </tr>\n    <tr>\n      <th>4</th>\n      <td>F</td>\n      <td>F</td>\n      <td>15</td>\n      <td>100</td>\n    </tr>\n    <tr>\n      <th>5</th>\n      <td>M</td>\n      <td>F</td>\n      <td>15</td>\n      <td>15</td>\n    </tr>\n    <tr>\n      <th>6</th>\n      <td>M</td>\n      <td>F</td>\n      <td>15</td>\n      <td>36</td>\n    </tr>\n    <tr>\n      <th>7</th>\n      <td>F</td>\n      <td>M</td>\n      <td>15</td>\n      <td>58</td>\n    </tr>\n    <tr>\n      <th>8</th>\n      <td>F</td>\n      <td>M</td>\n      <td>15</td>\n      <td>78</td>\n    </tr>\n    <tr>\n      <th>9</th>\n      <td>F</td>\n      <td>M</td>\n      <td>15</td>\n      <td>100</td>\n    </tr>\n  </tbody>\n</table>\n</div>"
     },
     "execution_count": 3,
     "metadata": {},
     "output_type": "execute_result"
    }
   ],
   "source": [
    "distances = np.diag(gower_matrix(df[[\"Sex1\", \"Age1\"]].to_numpy(), df[[\"Sex2\", \"Age2\"]].to_numpy(), weight=\"uniform\"))\n",
    "print(distances)\n",
    "df.loc[np.argsort(distances)]"
   ],
   "metadata": {
    "collapsed": false
   }
  },
  {
   "cell_type": "code",
   "execution_count": 4,
   "outputs": [
    {
     "data": {
      "text/plain": "  0%|          | 0/1 [00:00<?, ?it/s]",
      "application/vnd.jupyter.widget-view+json": {
       "version_major": 2,
       "version_minor": 0,
       "model_id": "991a6d50318e43e4bf3b81c044e3e68d"
      }
     },
     "metadata": {},
     "output_type": "display_data"
    },
    {
     "data": {
      "text/plain": "  0%|          | 0/1 [00:00<?, ?it/s]",
      "application/vnd.jupyter.widget-view+json": {
       "version_major": 2,
       "version_minor": 0,
       "model_id": "4dea409d7b684ed88a8819fbb39d906a"
      }
     },
     "metadata": {},
     "output_type": "display_data"
    },
    {
     "data": {
      "text/plain": "  0%|          | 0/10 [00:00<?, ?it/s]",
      "application/vnd.jupyter.widget-view+json": {
       "version_major": 2,
       "version_minor": 0,
       "model_id": "fd0faa6139844e168d4c77355d79e8d2"
      }
     },
     "metadata": {},
     "output_type": "display_data"
    },
    {
     "name": "stdout",
     "output_type": "stream",
     "text": [
      "[0.         0.36257249 0.74241035 0.74241035 0.74241035 0.25758965\n",
      " 0.62016215 1.         1.         1.        ]\n"
     ]
    },
    {
     "data": {
      "text/plain": "  Sex1 Sex2  Age1  Age2\n0    M    M    15    15\n5    M    F    15    15\n1    M    M    15    36\n6    M    F    15    36\n2    F    F    15    58\n3    F    F    15    78\n4    F    F    15   100\n7    F    M    15    58\n8    F    M    15    78\n9    F    M    15   100",
      "text/html": "<div>\n<style scoped>\n    .dataframe tbody tr th:only-of-type {\n        vertical-align: middle;\n    }\n\n    .dataframe tbody tr th {\n        vertical-align: top;\n    }\n\n    .dataframe thead th {\n        text-align: right;\n    }\n</style>\n<table border=\"1\" class=\"dataframe\">\n  <thead>\n    <tr style=\"text-align: right;\">\n      <th></th>\n      <th>Sex1</th>\n      <th>Sex2</th>\n      <th>Age1</th>\n      <th>Age2</th>\n    </tr>\n  </thead>\n  <tbody>\n    <tr>\n      <th>0</th>\n      <td>M</td>\n      <td>M</td>\n      <td>15</td>\n      <td>15</td>\n    </tr>\n    <tr>\n      <th>5</th>\n      <td>M</td>\n      <td>F</td>\n      <td>15</td>\n      <td>15</td>\n    </tr>\n    <tr>\n      <th>1</th>\n      <td>M</td>\n      <td>M</td>\n      <td>15</td>\n      <td>36</td>\n    </tr>\n    <tr>\n      <th>6</th>\n      <td>M</td>\n      <td>F</td>\n      <td>15</td>\n      <td>36</td>\n    </tr>\n    <tr>\n      <th>2</th>\n      <td>F</td>\n      <td>F</td>\n      <td>15</td>\n      <td>58</td>\n    </tr>\n    <tr>\n      <th>3</th>\n      <td>F</td>\n      <td>F</td>\n      <td>15</td>\n      <td>78</td>\n    </tr>\n    <tr>\n      <th>4</th>\n      <td>F</td>\n      <td>F</td>\n      <td>15</td>\n      <td>100</td>\n    </tr>\n    <tr>\n      <th>7</th>\n      <td>F</td>\n      <td>M</td>\n      <td>15</td>\n      <td>58</td>\n    </tr>\n    <tr>\n      <th>8</th>\n      <td>F</td>\n      <td>M</td>\n      <td>15</td>\n      <td>78</td>\n    </tr>\n    <tr>\n      <th>9</th>\n      <td>F</td>\n      <td>M</td>\n      <td>15</td>\n      <td>100</td>\n    </tr>\n  </tbody>\n</table>\n</div>"
     },
     "execution_count": 4,
     "metadata": {},
     "output_type": "execute_result"
    }
   ],
   "source": [
    "distances = np.diag(gower_matrix(df[[\"Sex1\", \"Age1\"]].to_numpy(), df[[\"Sex2\", \"Age2\"]].to_numpy(), R=(25, 75)))\n",
    "print(distances)\n",
    "df.loc[np.argsort(distances)]"
   ],
   "metadata": {
    "collapsed": false
   }
  },
  {
   "cell_type": "markdown",
   "source": [
    "# Some plots"
   ],
   "metadata": {
    "collapsed": false
   }
  },
  {
   "cell_type": "code",
   "execution_count": 5,
   "outputs": [],
   "source": [
    "colors = mcolors._colors_full_map\n",
    "MAX = 40"
   ],
   "metadata": {
    "collapsed": false
   }
  },
  {
   "cell_type": "markdown",
   "source": [
    "# Dog adoption dataset"
   ],
   "metadata": {
    "collapsed": false
   }
  },
  {
   "cell_type": "code",
   "execution_count": 6,
   "outputs": [
    {
     "name": "stdout",
     "output_type": "stream",
     "text": [
      "breed_secondary\n",
      "color_primary\n",
      "color_secondary\n",
      "color_tertiary\n",
      "declawed\n",
      "env_cats\n"
     ]
    },
    {
     "data": {
      "text/plain": "org_id             object\nurl                object\ntype.x             object\nspecies            object\nbreed_primary      object\nbreed_mixed        object\nbreed_unknown      object\nage                object\nsex                object\nsize               object\ncoat               object\nfixed              object\nhouse_trained      object\nspecial_needs      object\nshots_current      object\nenv_children       object\nenv_dogs           object\nname               object\nstatus             object\nposted             object\ncontact_city       object\ncontact_state      object\ncontact_zip        object\ncontact_country    object\nstateQ             object\naccessed           object\ntype.y             object\ndescription        object\ndtype: object"
     },
     "execution_count": 6,
     "metadata": {},
     "output_type": "execute_result"
    }
   ],
   "source": [
    "dd = pd.read_csv(\"dog_adoption/allDogDescriptions.csv\", index_col=0)\n",
    "dd.set_index(\"id\", inplace=True, drop=True)\n",
    "\n",
    "\n",
    "# get rid of columns with the most destructive nans\n",
    "\n",
    "def isolate_nans(column):\n",
    "    all_other_nans = nans[[c for c in cols if c != column]].sum(axis=1)\n",
    "    mask = all_other_nans < np.median(all_other_nans)\n",
    "    mask &= nans[column]\n",
    "    return mask.sum()\n",
    "\n",
    "\n",
    "nans = dd.isna()\n",
    "cols = dd.columns\n",
    "isolated_nans = {c: isolate_nans(c) for c in cols}\n",
    "median_count = np.median([v for v in isolated_nans.values() if v > 0])\n",
    "for column, count in isolated_nans.items():\n",
    "    if count > median_count:\n",
    "        print(column)\n",
    "        dd.drop(column, axis=1, inplace=True)\n",
    "dd.dropna(inplace=True)  # dd.mode().iloc[0]\n",
    "\n",
    "# make bools strings\n",
    "\n",
    "is_bool = dd.dtypes == bool\n",
    "dd.loc[:, is_bool] = dd[dd.columns[is_bool]].astype(str)\n",
    "\n",
    "dd.dtypes"
   ],
   "metadata": {
    "collapsed": false
   }
  },
  {
   "cell_type": "markdown",
   "source": [
    "We can also use the categorical weight function to measure the performance\n",
    "of clustering algorithms and thereby tune the parameters of DBSCAN."
   ],
   "metadata": {
    "collapsed": false
   }
  },
  {
   "cell_type": "code",
   "execution_count": 7,
   "outputs": [
    {
     "data": {
      "text/plain": "  0%|          | 0/28 [00:00<?, ?it/s]",
      "application/vnd.jupyter.widget-view+json": {
       "version_major": 2,
       "version_minor": 0,
       "model_id": "fde6ca38bda040e0bfab1bcfd0114163"
      }
     },
     "metadata": {},
     "output_type": "display_data"
    },
    {
     "data": {
      "text/plain": "0it [00:00, ?it/s]",
      "application/vnd.jupyter.widget-view+json": {
       "version_major": 2,
       "version_minor": 0,
       "model_id": "e90c55f78865477fb6c9a4fe38ec6df0"
      }
     },
     "metadata": {},
     "output_type": "display_data"
    },
    {
     "data": {
      "text/plain": "  0%|          | 0/13729 [00:00<?, ?it/s]",
      "application/vnd.jupyter.widget-view+json": {
       "version_major": 2,
       "version_minor": 0,
       "model_id": "8cbb91a2c6974304a04016177b62274e"
      }
     },
     "metadata": {},
     "output_type": "display_data"
    }
   ],
   "source": [
    "matrix = gower_matrix(dd.to_numpy(), chunksize=20)"
   ],
   "metadata": {
    "collapsed": false
   }
  },
  {
   "cell_type": "code",
   "execution_count": 8,
   "outputs": [
    {
     "data": {
      "text/plain": "  0%|          | 0/100 [00:00<?, ?it/s]",
      "application/vnd.jupyter.widget-view+json": {
       "version_major": 2,
       "version_minor": 0,
       "model_id": "631cfa1d1b1849608c604f94952a260e"
      }
     },
     "metadata": {},
     "output_type": "display_data"
    },
    {
     "data": {
      "text/plain": "({'eps': 0.5, 'min_samples': 1}, 0.9078390917547138)"
     },
     "execution_count": 8,
     "metadata": {},
     "output_type": "execute_result"
    }
   ],
   "source": [
    "samples = [{\"eps\": z / 10, \"min_samples\": a} for z in range(1, 11) for a in range(1, 11)]\n",
    "results = process_map(partial(do_it, matrix=matrix), samples, chunksize=1)\n",
    "best_params = max(results, key=lambda z: z[1])\n",
    "best_params"
   ],
   "metadata": {
    "collapsed": false
   }
  },
  {
   "cell_type": "code",
   "execution_count": 9,
   "outputs": [
    {
     "data": {
      "text/plain": "[({'eps': 0.1, 'min_samples': 1}, 0.0),\n ({'eps': 0.1, 'min_samples': 2}, 0),\n ({'eps': 0.1, 'min_samples': 3}, 0),\n ({'eps': 0.1, 'min_samples': 4}, 0),\n ({'eps': 0.1, 'min_samples': 5}, 0),\n ({'eps': 0.1, 'min_samples': 6}, 0),\n ({'eps': 0.1, 'min_samples': 7}, 0),\n ({'eps': 0.1, 'min_samples': 8}, 0),\n ({'eps': 0.1, 'min_samples': 9}, 0),\n ({'eps': 0.1, 'min_samples': 10}, 0),\n ({'eps': 0.2, 'min_samples': 1}, 0.0009104814625974234),\n ({'eps': 0.2, 'min_samples': 2}, 0.0009104814625974234),\n ({'eps': 0.2, 'min_samples': 3}, 0),\n ({'eps': 0.2, 'min_samples': 4}, 0),\n ({'eps': 0.2, 'min_samples': 5}, 0),\n ({'eps': 0.2, 'min_samples': 6}, 0),\n ({'eps': 0.2, 'min_samples': 7}, 0),\n ({'eps': 0.2, 'min_samples': 8}, 0),\n ({'eps': 0.2, 'min_samples': 9}, 0),\n ({'eps': 0.2, 'min_samples': 10}, 0),\n ({'eps': 0.3, 'min_samples': 1}, 0.21714837797314568),\n ({'eps': 0.3, 'min_samples': 2}, 0.21714837797314568),\n ({'eps': 0.3, 'min_samples': 3}, 0.13159953974749194),\n ({'eps': 0.3, 'min_samples': 4}, 0.08452842854388742),\n ({'eps': 0.3, 'min_samples': 5}, 0.06112728414945068),\n ({'eps': 0.3, 'min_samples': 6}, 0.042605193342094005),\n ({'eps': 0.3, 'min_samples': 7}, 0.030522150495703726),\n ({'eps': 0.3, 'min_samples': 8}, 0.02465986385185981),\n ({'eps': 0.3, 'min_samples': 9}, 0.020496885592079184),\n ({'eps': 0.3, 'min_samples': 10}, 0.01890959505637324),\n ({'eps': 0.4, 'min_samples': 1}, 0.7233031430345066),\n ({'eps': 0.4, 'min_samples': 2}, 0.7233031430345066),\n ({'eps': 0.4, 'min_samples': 3}, 0.6563281266458403),\n ({'eps': 0.4, 'min_samples': 4}, 0.5833690672502744),\n ({'eps': 0.4, 'min_samples': 5}, 0.5214790651457328),\n ({'eps': 0.4, 'min_samples': 6}, 0.4676879129677217),\n ({'eps': 0.4, 'min_samples': 7}, 0.41691550956996337),\n ({'eps': 0.4, 'min_samples': 8}, 0.37240477329551047),\n ({'eps': 0.4, 'min_samples': 9}, 0.3289698428236707),\n ({'eps': 0.4, 'min_samples': 10}, 0.28880766956059667),\n ({'eps': 0.5, 'min_samples': 1}, 0.9078390917547138),\n ({'eps': 0.5, 'min_samples': 2}, 0.9078390917547138),\n ({'eps': 0.5, 'min_samples': 3}, 0.873859923570578),\n ({'eps': 0.5, 'min_samples': 4}, 0.8361997135376356),\n ({'eps': 0.5, 'min_samples': 5}, 0.7938648112125934),\n ({'eps': 0.5, 'min_samples': 6}, 0.7493038097791114),\n ({'eps': 0.5, 'min_samples': 7}, 0.7049129575067146),\n ({'eps': 0.5, 'min_samples': 8}, 0.663797342366312),\n ({'eps': 0.5, 'min_samples': 9}, 0.6302476620619893),\n ({'eps': 0.5, 'min_samples': 10}, 0.5867877696512569),\n ({'eps': 0.6, 'min_samples': 1}, 0.03447995536159787),\n ({'eps': 0.6, 'min_samples': 2}, 0.03447995536159787),\n ({'eps': 0.6, 'min_samples': 3}, 0.03043741766766528),\n ({'eps': 0.6, 'min_samples': 4}, 0.029657419886195635),\n ({'eps': 0.6, 'min_samples': 5}, 0.027504374969712586),\n ({'eps': 0.6, 'min_samples': 6}, 0.027623604692792347),\n ({'eps': 0.6, 'min_samples': 7}, 0.025338406065991137),\n ({'eps': 0.6, 'min_samples': 8}, 0.026378206654266045),\n ({'eps': 0.6, 'min_samples': 9}, 0.025221418042265742),\n ({'eps': 0.6, 'min_samples': 10}, 0.022323917014267947),\n ({'eps': 0.7, 'min_samples': 1}, 0),\n ({'eps': 0.7, 'min_samples': 2}, 0),\n ({'eps': 0.7, 'min_samples': 3}, 0),\n ({'eps': 0.7, 'min_samples': 4}, 0),\n ({'eps': 0.7, 'min_samples': 5}, 0),\n ({'eps': 0.7, 'min_samples': 6}, 0),\n ({'eps': 0.7, 'min_samples': 7}, 0),\n ({'eps': 0.7, 'min_samples': 8}, 7.283321001205767e-05),\n ({'eps': 0.7, 'min_samples': 9}, 7.283321001205767e-05),\n ({'eps': 0.7, 'min_samples': 10}, 7.283320962536699e-05),\n ({'eps': 0.8, 'min_samples': 1}, 0),\n ({'eps': 0.8, 'min_samples': 2}, 0),\n ({'eps': 0.8, 'min_samples': 3}, 0),\n ({'eps': 0.8, 'min_samples': 4}, 0),\n ({'eps': 0.8, 'min_samples': 5}, 0),\n ({'eps': 0.8, 'min_samples': 6}, 0),\n ({'eps': 0.8, 'min_samples': 7}, 0),\n ({'eps': 0.8, 'min_samples': 8}, 0),\n ({'eps': 0.8, 'min_samples': 9}, 0),\n ({'eps': 0.8, 'min_samples': 10}, 0),\n ({'eps': 0.9, 'min_samples': 1}, 0),\n ({'eps': 0.9, 'min_samples': 2}, 0),\n ({'eps': 0.9, 'min_samples': 3}, 0),\n ({'eps': 0.9, 'min_samples': 4}, 0),\n ({'eps': 0.9, 'min_samples': 5}, 0),\n ({'eps': 0.9, 'min_samples': 6}, 0),\n ({'eps': 0.9, 'min_samples': 7}, 0),\n ({'eps': 0.9, 'min_samples': 8}, 0),\n ({'eps': 0.9, 'min_samples': 9}, 0),\n ({'eps': 0.9, 'min_samples': 10}, 0),\n ({'eps': 1.0, 'min_samples': 1}, 0),\n ({'eps': 1.0, 'min_samples': 2}, 0),\n ({'eps': 1.0, 'min_samples': 3}, 0),\n ({'eps': 1.0, 'min_samples': 4}, 0),\n ({'eps': 1.0, 'min_samples': 5}, 0),\n ({'eps': 1.0, 'min_samples': 6}, 0),\n ({'eps': 1.0, 'min_samples': 7}, 0),\n ({'eps': 1.0, 'min_samples': 8}, 0),\n ({'eps': 1.0, 'min_samples': 9}, 0),\n ({'eps': 1.0, 'min_samples': 10}, 0)]"
     },
     "execution_count": 9,
     "metadata": {},
     "output_type": "execute_result"
    }
   ],
   "source": [
    "results"
   ],
   "metadata": {
    "collapsed": false
   }
  },
  {
   "cell_type": "code",
   "execution_count": 10,
   "outputs": [
    {
     "name": "stdout",
     "output_type": "stream",
     "text": [
      "0.9078390917547138\n"
     ]
    },
    {
     "data": {
      "text/plain": "(array([   0,    1,    2, ..., 2034, 2035, 2036]),\n array([ 19, 101,   2, ...,   5,   1,   1]))"
     },
     "execution_count": 10,
     "metadata": {},
     "output_type": "execute_result"
    }
   ],
   "source": [
    "dd[\"gower_dbscan\"] = DBSCAN(metric=\"precomputed\", **best_params[0]).fit_predict(matrix)\n",
    "print(get_cat_weight(dd[\"gower_dbscan\"]))\n",
    "np.unique(dd[\"gower_dbscan\"], return_counts=True)"
   ],
   "metadata": {
    "collapsed": false
   }
  },
  {
   "cell_type": "code",
   "execution_count": 11,
   "outputs": [
    {
     "data": {
      "text/plain": "          org_id                                                url type.x  \\\nid                                                                           \n46021535  TX2394  https://www.petfinder.com/dog/brody-bear-46021...    Dog   \n46021378  TX2394  https://www.petfinder.com/dog/brody-46021378/c...    Dog   \n46021361  TX2394  https://www.petfinder.com/dog/daisey-may-46021...    Dog   \n46021331  TX2394  https://www.petfinder.com/dog/daisey-mae-46021...    Dog   \n46021276  TX2394  https://www.petfinder.com/dog/daisey-mae-3-460...    Dog   \n...          ...                                                ...    ...   \n45070846    WV80  https://www.petfinder.com/dog/manie-45070846/w...    Dog   \n44531731    WV04  https://www.petfinder.com/dog/coco-44531731/wv...    Dog   \n44175060    WV37  https://www.petfinder.com/dog/skylee-44175060/...    Dog   \n38637037   WV193  https://www.petfinder.com/dog/rocky-38637037/w...    Dog   \n28351171   VA674  https://www.petfinder.com/dog/chauncey-2835117...    Dog   \n\n         species     breed_primary breed_mixed breed_unknown     age     sex  \\\nid                                                                             \n46021535     Dog         Schnauzer        True         False    Baby    Male   \n46021378     Dog         Schnauzer        True         False    Baby    Male   \n46021361     Dog        Weimaraner        True         False   Young  Female   \n46021331     Dog        Weimaraner        True         False   Young  Female   \n46021276     Dog        Weimaraner        True         False   Young  Female   \n...          ...               ...         ...           ...     ...     ...   \n45070846     Dog           Terrier        True         False   Adult    Male   \n44531731     Dog  Pit Bull Terrier        True         False   Adult  Female   \n44175060     Dog               Pug        True         False  Senior  Female   \n38637037     Dog            Beagle       False         False   Adult    Male   \n28351171     Dog           Pointer        True         False   Adult    Male   \n\n            size  ... contact_city contact_state contact_zip contact_country  \\\nid                ...                                                          \n46021535   Small  ...  Brattleboro            VT       05301              US   \n46021378   Small  ...       Groton            CT       06340              US   \n46021361  Medium  ...  Brattleboro            VT       05301              US   \n46021331  Medium  ...       Boston            MA       02128              US   \n46021276  Medium  ...       Groton            CT       06340              US   \n...          ...  ...          ...           ...         ...             ...   \n45070846   Small  ...  Scott Depot            WV       25560              US   \n44531731  Medium  ...     Fairmont            WV       26554              US   \n44175060  Medium  ...     Dellslow            WV       26531              US   \n38637037   Small  ...    Belington            WV       26250              US   \n28351171   Large  ...   Pearisburg            VA       24134              US   \n\n         stateQ    accessed type.y  \\\nid                                   \n46021535     CT  2019-09-20    Dog   \n46021378     CT  2019-09-20    Dog   \n46021361     CT  2019-09-20    Dog   \n46021331     CT  2019-09-20    Dog   \n46021276     CT  2019-09-20    Dog   \n...         ...         ...    ...   \n45070846     WV  2019-09-20    Dog   \n44531731     WV  2019-09-20    Dog   \n44175060     WV  2019-09-20    Dog   \n38637037     WV  2019-09-20    Dog   \n28351171     WV  2019-09-20    Dog   \n\n                                                description gower_dbscan  \\\nid                                                                         \n46021535  Howdy! Caught you looking! My name is Brody!  ...          234   \n46021378  Howdy! Caught you looking! My name is Brody!  ...          234   \n46021361  Howdy! Caught you looking! My name is Daisey M...          234   \n46021331  Howdy! Caught you looking! My name is Daisey M...          234   \n46021276  Howdy! Caught you looking! My name is Daisey M...          234   \n...                                                     ...          ...   \n45070846  Manie's birthday is 6/21/2018. He likes attent...         2030   \n44531731  If you'd like to learn more about one of our a...         2031   \n44175060  Hi Skylee !! ??\\nSkylee is a senior girl, who ...         2032   \n38637037  Meet Rocky, He is a 9 year old male Chihuahua ...         2035   \n28351171  Chauncey is a gentle giant who loves people an...         2036   \n\n         label_count  \nid                    \n46021535         250  \n46021378         250  \n46021361         250  \n46021331         250  \n46021276         250  \n...              ...  \n45070846           1  \n44531731           1  \n44175060           1  \n38637037           1  \n28351171           1  \n\n[13729 rows x 30 columns]",
      "text/html": "<div>\n<style scoped>\n    .dataframe tbody tr th:only-of-type {\n        vertical-align: middle;\n    }\n\n    .dataframe tbody tr th {\n        vertical-align: top;\n    }\n\n    .dataframe thead th {\n        text-align: right;\n    }\n</style>\n<table border=\"1\" class=\"dataframe\">\n  <thead>\n    <tr style=\"text-align: right;\">\n      <th></th>\n      <th>org_id</th>\n      <th>url</th>\n      <th>type.x</th>\n      <th>species</th>\n      <th>breed_primary</th>\n      <th>breed_mixed</th>\n      <th>breed_unknown</th>\n      <th>age</th>\n      <th>sex</th>\n      <th>size</th>\n      <th>...</th>\n      <th>contact_city</th>\n      <th>contact_state</th>\n      <th>contact_zip</th>\n      <th>contact_country</th>\n      <th>stateQ</th>\n      <th>accessed</th>\n      <th>type.y</th>\n      <th>description</th>\n      <th>gower_dbscan</th>\n      <th>label_count</th>\n    </tr>\n    <tr>\n      <th>id</th>\n      <th></th>\n      <th></th>\n      <th></th>\n      <th></th>\n      <th></th>\n      <th></th>\n      <th></th>\n      <th></th>\n      <th></th>\n      <th></th>\n      <th></th>\n      <th></th>\n      <th></th>\n      <th></th>\n      <th></th>\n      <th></th>\n      <th></th>\n      <th></th>\n      <th></th>\n      <th></th>\n      <th></th>\n    </tr>\n  </thead>\n  <tbody>\n    <tr>\n      <th>46021535</th>\n      <td>TX2394</td>\n      <td>https://www.petfinder.com/dog/brody-bear-46021...</td>\n      <td>Dog</td>\n      <td>Dog</td>\n      <td>Schnauzer</td>\n      <td>True</td>\n      <td>False</td>\n      <td>Baby</td>\n      <td>Male</td>\n      <td>Small</td>\n      <td>...</td>\n      <td>Brattleboro</td>\n      <td>VT</td>\n      <td>05301</td>\n      <td>US</td>\n      <td>CT</td>\n      <td>2019-09-20</td>\n      <td>Dog</td>\n      <td>Howdy! Caught you looking! My name is Brody!  ...</td>\n      <td>234</td>\n      <td>250</td>\n    </tr>\n    <tr>\n      <th>46021378</th>\n      <td>TX2394</td>\n      <td>https://www.petfinder.com/dog/brody-46021378/c...</td>\n      <td>Dog</td>\n      <td>Dog</td>\n      <td>Schnauzer</td>\n      <td>True</td>\n      <td>False</td>\n      <td>Baby</td>\n      <td>Male</td>\n      <td>Small</td>\n      <td>...</td>\n      <td>Groton</td>\n      <td>CT</td>\n      <td>06340</td>\n      <td>US</td>\n      <td>CT</td>\n      <td>2019-09-20</td>\n      <td>Dog</td>\n      <td>Howdy! Caught you looking! My name is Brody!  ...</td>\n      <td>234</td>\n      <td>250</td>\n    </tr>\n    <tr>\n      <th>46021361</th>\n      <td>TX2394</td>\n      <td>https://www.petfinder.com/dog/daisey-may-46021...</td>\n      <td>Dog</td>\n      <td>Dog</td>\n      <td>Weimaraner</td>\n      <td>True</td>\n      <td>False</td>\n      <td>Young</td>\n      <td>Female</td>\n      <td>Medium</td>\n      <td>...</td>\n      <td>Brattleboro</td>\n      <td>VT</td>\n      <td>05301</td>\n      <td>US</td>\n      <td>CT</td>\n      <td>2019-09-20</td>\n      <td>Dog</td>\n      <td>Howdy! Caught you looking! My name is Daisey M...</td>\n      <td>234</td>\n      <td>250</td>\n    </tr>\n    <tr>\n      <th>46021331</th>\n      <td>TX2394</td>\n      <td>https://www.petfinder.com/dog/daisey-mae-46021...</td>\n      <td>Dog</td>\n      <td>Dog</td>\n      <td>Weimaraner</td>\n      <td>True</td>\n      <td>False</td>\n      <td>Young</td>\n      <td>Female</td>\n      <td>Medium</td>\n      <td>...</td>\n      <td>Boston</td>\n      <td>MA</td>\n      <td>02128</td>\n      <td>US</td>\n      <td>CT</td>\n      <td>2019-09-20</td>\n      <td>Dog</td>\n      <td>Howdy! Caught you looking! My name is Daisey M...</td>\n      <td>234</td>\n      <td>250</td>\n    </tr>\n    <tr>\n      <th>46021276</th>\n      <td>TX2394</td>\n      <td>https://www.petfinder.com/dog/daisey-mae-3-460...</td>\n      <td>Dog</td>\n      <td>Dog</td>\n      <td>Weimaraner</td>\n      <td>True</td>\n      <td>False</td>\n      <td>Young</td>\n      <td>Female</td>\n      <td>Medium</td>\n      <td>...</td>\n      <td>Groton</td>\n      <td>CT</td>\n      <td>06340</td>\n      <td>US</td>\n      <td>CT</td>\n      <td>2019-09-20</td>\n      <td>Dog</td>\n      <td>Howdy! Caught you looking! My name is Daisey M...</td>\n      <td>234</td>\n      <td>250</td>\n    </tr>\n    <tr>\n      <th>...</th>\n      <td>...</td>\n      <td>...</td>\n      <td>...</td>\n      <td>...</td>\n      <td>...</td>\n      <td>...</td>\n      <td>...</td>\n      <td>...</td>\n      <td>...</td>\n      <td>...</td>\n      <td>...</td>\n      <td>...</td>\n      <td>...</td>\n      <td>...</td>\n      <td>...</td>\n      <td>...</td>\n      <td>...</td>\n      <td>...</td>\n      <td>...</td>\n      <td>...</td>\n      <td>...</td>\n    </tr>\n    <tr>\n      <th>45070846</th>\n      <td>WV80</td>\n      <td>https://www.petfinder.com/dog/manie-45070846/w...</td>\n      <td>Dog</td>\n      <td>Dog</td>\n      <td>Terrier</td>\n      <td>True</td>\n      <td>False</td>\n      <td>Adult</td>\n      <td>Male</td>\n      <td>Small</td>\n      <td>...</td>\n      <td>Scott Depot</td>\n      <td>WV</td>\n      <td>25560</td>\n      <td>US</td>\n      <td>WV</td>\n      <td>2019-09-20</td>\n      <td>Dog</td>\n      <td>Manie's birthday is 6/21/2018. He likes attent...</td>\n      <td>2030</td>\n      <td>1</td>\n    </tr>\n    <tr>\n      <th>44531731</th>\n      <td>WV04</td>\n      <td>https://www.petfinder.com/dog/coco-44531731/wv...</td>\n      <td>Dog</td>\n      <td>Dog</td>\n      <td>Pit Bull Terrier</td>\n      <td>True</td>\n      <td>False</td>\n      <td>Adult</td>\n      <td>Female</td>\n      <td>Medium</td>\n      <td>...</td>\n      <td>Fairmont</td>\n      <td>WV</td>\n      <td>26554</td>\n      <td>US</td>\n      <td>WV</td>\n      <td>2019-09-20</td>\n      <td>Dog</td>\n      <td>If you'd like to learn more about one of our a...</td>\n      <td>2031</td>\n      <td>1</td>\n    </tr>\n    <tr>\n      <th>44175060</th>\n      <td>WV37</td>\n      <td>https://www.petfinder.com/dog/skylee-44175060/...</td>\n      <td>Dog</td>\n      <td>Dog</td>\n      <td>Pug</td>\n      <td>True</td>\n      <td>False</td>\n      <td>Senior</td>\n      <td>Female</td>\n      <td>Medium</td>\n      <td>...</td>\n      <td>Dellslow</td>\n      <td>WV</td>\n      <td>26531</td>\n      <td>US</td>\n      <td>WV</td>\n      <td>2019-09-20</td>\n      <td>Dog</td>\n      <td>Hi Skylee !! ??\\nSkylee is a senior girl, who ...</td>\n      <td>2032</td>\n      <td>1</td>\n    </tr>\n    <tr>\n      <th>38637037</th>\n      <td>WV193</td>\n      <td>https://www.petfinder.com/dog/rocky-38637037/w...</td>\n      <td>Dog</td>\n      <td>Dog</td>\n      <td>Beagle</td>\n      <td>False</td>\n      <td>False</td>\n      <td>Adult</td>\n      <td>Male</td>\n      <td>Small</td>\n      <td>...</td>\n      <td>Belington</td>\n      <td>WV</td>\n      <td>26250</td>\n      <td>US</td>\n      <td>WV</td>\n      <td>2019-09-20</td>\n      <td>Dog</td>\n      <td>Meet Rocky, He is a 9 year old male Chihuahua ...</td>\n      <td>2035</td>\n      <td>1</td>\n    </tr>\n    <tr>\n      <th>28351171</th>\n      <td>VA674</td>\n      <td>https://www.petfinder.com/dog/chauncey-2835117...</td>\n      <td>Dog</td>\n      <td>Dog</td>\n      <td>Pointer</td>\n      <td>True</td>\n      <td>False</td>\n      <td>Adult</td>\n      <td>Male</td>\n      <td>Large</td>\n      <td>...</td>\n      <td>Pearisburg</td>\n      <td>VA</td>\n      <td>24134</td>\n      <td>US</td>\n      <td>WV</td>\n      <td>2019-09-20</td>\n      <td>Dog</td>\n      <td>Chauncey is a gentle giant who loves people an...</td>\n      <td>2036</td>\n      <td>1</td>\n    </tr>\n  </tbody>\n</table>\n<p>13729 rows × 30 columns</p>\n</div>"
     },
     "execution_count": 11,
     "metadata": {},
     "output_type": "execute_result"
    }
   ],
   "source": [
    "dd[\"label_count\"] = dd.groupby(\"gower_dbscan\").transform(\"count\").iloc[:, 0]\n",
    "dd.sort_values([\"label_count\", \"gower_dbscan\"], ascending=[False, True], inplace=True)\n",
    "dd"
   ],
   "metadata": {
    "collapsed": false
   }
  },
  {
   "cell_type": "markdown",
   "source": [
    "# Pokemon dataset"
   ],
   "metadata": {
    "collapsed": false
   }
  },
  {
   "cell_type": "code",
   "execution_count": 12,
   "outputs": [
    {
     "data": {
      "text/plain": "  0%|          | 0/10 [00:00<?, ?it/s]",
      "application/vnd.jupyter.widget-view+json": {
       "version_major": 2,
       "version_minor": 0,
       "model_id": "4ae70c4e0cc04f7ba58232c09728625b"
      }
     },
     "metadata": {},
     "output_type": "display_data"
    },
    {
     "data": {
      "text/plain": "  0%|          | 0/13 [00:00<?, ?it/s]",
      "application/vnd.jupyter.widget-view+json": {
       "version_major": 2,
       "version_minor": 0,
       "model_id": "22c220230ce447f69d455f2cd9eb14e0"
      }
     },
     "metadata": {},
     "output_type": "display_data"
    },
    {
     "data": {
      "text/plain": "  0%|          | 0/721 [00:00<?, ?it/s]",
      "application/vnd.jupyter.widget-view+json": {
       "version_major": 2,
       "version_minor": 0,
       "model_id": "5a56ef0fb1434afb8d082a4e4ad3d1b8"
      }
     },
     "metadata": {},
     "output_type": "display_data"
    },
    {
     "data": {
      "text/plain": "  0%|          | 0/1000 [00:00<?, ?it/s]",
      "application/vnd.jupyter.widget-view+json": {
       "version_major": 2,
       "version_minor": 0,
       "model_id": "84573198016d45a183b6556e077f1c62"
      }
     },
     "metadata": {},
     "output_type": "display_data"
    },
    {
     "name": "stdout",
     "output_type": "stream",
     "text": [
      "({'eps': 0.042, 'min_samples': 1}, 0.6641867713018119)\n"
     ]
    },
    {
     "data": {
      "text/plain": "(array([ 1,  2,  3,  4,  7,  8, 15, 16, 17, 18, 37, 48, 72, 77, 80, 87]),\n array([144,  16,   8,   2,   3,   1,   1,   1,   2,   1,   1,   1,   1,\n          1,   1,   1]))"
     },
     "execution_count": 12,
     "metadata": {},
     "output_type": "execute_result"
    }
   ],
   "source": [
    "pokemon = pd.read_csv(\"pokemon/pokemon_alopez247.csv\")\n",
    "\n",
    "for c in pokemon.columns[pokemon.dtypes != object]:\n",
    "    pokemon.loc[pokemon[c].isna(), c] = np.nanmedian(pokemon[c])\n",
    "for c in pokemon.columns[pokemon.dtypes == object]:\n",
    "    pokemon.loc[pokemon[c].isna(), c] = \"none\"\n",
    "\n",
    "matrix2 = gower_matrix(pokemon.to_numpy(), knn=True, chunksize=20)\n",
    "samples = [{\"eps\": 0.1 * z / 1000, \"min_samples\": 1} for z in range(1, 1001)]\n",
    "results2 = process_map(partial(do_it, matrix=matrix2), samples, chunksize=20)\n",
    "best_params2 = max(results2, key=lambda z: z[1])\n",
    "print(best_params2)\n",
    "pokemon[\"gower_dbscan\"] = DBSCAN(metric=\"precomputed\", **best_params2[0]).fit_predict(matrix2)\n",
    "_, counts2 = np.unique(pokemon[\"gower_dbscan\"], return_counts=True)\n",
    "np.unique(counts2, return_counts=True)"
   ],
   "metadata": {
    "collapsed": false
   }
  },
  {
   "cell_type": "code",
   "execution_count": 13,
   "outputs": [
    {
     "data": {
      "text/plain": "     Number      Name  Type_1  Type_2  Total   HP  Attack  Defense  Sp_Atk  \\\n494     495     Snivy   Grass    none    308   45      45       55      45   \n497     498     Tepig    Fire    none    308   65      63       45      45   \n500     501  Oshawott   Water    none    308   55      55       45      63   \n503     504    Patrat  Normal    none    255   45      55       39      35   \n505     506  Lillipup  Normal    none    275   45      60       45      25   \n..      ...       ...     ...     ...    ...  ...     ...      ...     ...   \n712     713   Avalugg     Ice    none    514   95     117      184      44   \n713     714    Noibat  Flying  Dragon    245   40      30       35      45   \n714     715   Noivern  Flying  Dragon    535   85      70       80      97   \n717     718   Zygarde  Dragon  Ground    600  108     100      121      81   \n718     719   Diancie    Rock   Fairy    600   50     100      150     100   \n\n     Sp_Def  ...  Pr_Male   Egg_Group_1 Egg_Group_2 hasMegaEvolution Height_m  \\\n494      55  ...    0.875         Field       Grass            False     0.61   \n497      45  ...    0.875         Field        none            False     0.51   \n500      45  ...    0.875         Field        none            False     0.51   \n503      39  ...    0.500         Field        none            False     0.51   \n505      45  ...    0.500         Field        none            False     0.41   \n..      ...  ...      ...           ...         ...              ...      ...   \n712      46  ...    0.500       Monster        none            False     2.01   \n713      40  ...    0.500        Flying        none            False     0.51   \n714      80  ...    0.500        Flying        none            False     1.50   \n717      95  ...    0.500  Undiscovered        none            False     5.00   \n718     150  ...    0.500  Undiscovered        none             True     0.71   \n\n     Weight_kg Catch_Rate       Body_Style gower_dbscan  label_count  \n494        8.1         45   bipedal_tailed          135           87  \n497        9.9         45        quadruped          135           87  \n500        5.9         45   bipedal_tailed          135           87  \n503       11.6        255        quadruped          135           87  \n505        4.1        255        quadruped          135           87  \n..         ...        ...              ...          ...          ...  \n712      505.0         55        quadruped          179            1  \n713        8.0        190        two_wings          180            1  \n714       85.0         45        two_wings          181            1  \n717      305.0          3  serpentine_body          183            1  \n718        8.8          3        head_arms          184            1  \n\n[721 rows x 25 columns]",
      "text/html": "<div>\n<style scoped>\n    .dataframe tbody tr th:only-of-type {\n        vertical-align: middle;\n    }\n\n    .dataframe tbody tr th {\n        vertical-align: top;\n    }\n\n    .dataframe thead th {\n        text-align: right;\n    }\n</style>\n<table border=\"1\" class=\"dataframe\">\n  <thead>\n    <tr style=\"text-align: right;\">\n      <th></th>\n      <th>Number</th>\n      <th>Name</th>\n      <th>Type_1</th>\n      <th>Type_2</th>\n      <th>Total</th>\n      <th>HP</th>\n      <th>Attack</th>\n      <th>Defense</th>\n      <th>Sp_Atk</th>\n      <th>Sp_Def</th>\n      <th>...</th>\n      <th>Pr_Male</th>\n      <th>Egg_Group_1</th>\n      <th>Egg_Group_2</th>\n      <th>hasMegaEvolution</th>\n      <th>Height_m</th>\n      <th>Weight_kg</th>\n      <th>Catch_Rate</th>\n      <th>Body_Style</th>\n      <th>gower_dbscan</th>\n      <th>label_count</th>\n    </tr>\n  </thead>\n  <tbody>\n    <tr>\n      <th>494</th>\n      <td>495</td>\n      <td>Snivy</td>\n      <td>Grass</td>\n      <td>none</td>\n      <td>308</td>\n      <td>45</td>\n      <td>45</td>\n      <td>55</td>\n      <td>45</td>\n      <td>55</td>\n      <td>...</td>\n      <td>0.875</td>\n      <td>Field</td>\n      <td>Grass</td>\n      <td>False</td>\n      <td>0.61</td>\n      <td>8.1</td>\n      <td>45</td>\n      <td>bipedal_tailed</td>\n      <td>135</td>\n      <td>87</td>\n    </tr>\n    <tr>\n      <th>497</th>\n      <td>498</td>\n      <td>Tepig</td>\n      <td>Fire</td>\n      <td>none</td>\n      <td>308</td>\n      <td>65</td>\n      <td>63</td>\n      <td>45</td>\n      <td>45</td>\n      <td>45</td>\n      <td>...</td>\n      <td>0.875</td>\n      <td>Field</td>\n      <td>none</td>\n      <td>False</td>\n      <td>0.51</td>\n      <td>9.9</td>\n      <td>45</td>\n      <td>quadruped</td>\n      <td>135</td>\n      <td>87</td>\n    </tr>\n    <tr>\n      <th>500</th>\n      <td>501</td>\n      <td>Oshawott</td>\n      <td>Water</td>\n      <td>none</td>\n      <td>308</td>\n      <td>55</td>\n      <td>55</td>\n      <td>45</td>\n      <td>63</td>\n      <td>45</td>\n      <td>...</td>\n      <td>0.875</td>\n      <td>Field</td>\n      <td>none</td>\n      <td>False</td>\n      <td>0.51</td>\n      <td>5.9</td>\n      <td>45</td>\n      <td>bipedal_tailed</td>\n      <td>135</td>\n      <td>87</td>\n    </tr>\n    <tr>\n      <th>503</th>\n      <td>504</td>\n      <td>Patrat</td>\n      <td>Normal</td>\n      <td>none</td>\n      <td>255</td>\n      <td>45</td>\n      <td>55</td>\n      <td>39</td>\n      <td>35</td>\n      <td>39</td>\n      <td>...</td>\n      <td>0.500</td>\n      <td>Field</td>\n      <td>none</td>\n      <td>False</td>\n      <td>0.51</td>\n      <td>11.6</td>\n      <td>255</td>\n      <td>quadruped</td>\n      <td>135</td>\n      <td>87</td>\n    </tr>\n    <tr>\n      <th>505</th>\n      <td>506</td>\n      <td>Lillipup</td>\n      <td>Normal</td>\n      <td>none</td>\n      <td>275</td>\n      <td>45</td>\n      <td>60</td>\n      <td>45</td>\n      <td>25</td>\n      <td>45</td>\n      <td>...</td>\n      <td>0.500</td>\n      <td>Field</td>\n      <td>none</td>\n      <td>False</td>\n      <td>0.41</td>\n      <td>4.1</td>\n      <td>255</td>\n      <td>quadruped</td>\n      <td>135</td>\n      <td>87</td>\n    </tr>\n    <tr>\n      <th>...</th>\n      <td>...</td>\n      <td>...</td>\n      <td>...</td>\n      <td>...</td>\n      <td>...</td>\n      <td>...</td>\n      <td>...</td>\n      <td>...</td>\n      <td>...</td>\n      <td>...</td>\n      <td>...</td>\n      <td>...</td>\n      <td>...</td>\n      <td>...</td>\n      <td>...</td>\n      <td>...</td>\n      <td>...</td>\n      <td>...</td>\n      <td>...</td>\n      <td>...</td>\n      <td>...</td>\n    </tr>\n    <tr>\n      <th>712</th>\n      <td>713</td>\n      <td>Avalugg</td>\n      <td>Ice</td>\n      <td>none</td>\n      <td>514</td>\n      <td>95</td>\n      <td>117</td>\n      <td>184</td>\n      <td>44</td>\n      <td>46</td>\n      <td>...</td>\n      <td>0.500</td>\n      <td>Monster</td>\n      <td>none</td>\n      <td>False</td>\n      <td>2.01</td>\n      <td>505.0</td>\n      <td>55</td>\n      <td>quadruped</td>\n      <td>179</td>\n      <td>1</td>\n    </tr>\n    <tr>\n      <th>713</th>\n      <td>714</td>\n      <td>Noibat</td>\n      <td>Flying</td>\n      <td>Dragon</td>\n      <td>245</td>\n      <td>40</td>\n      <td>30</td>\n      <td>35</td>\n      <td>45</td>\n      <td>40</td>\n      <td>...</td>\n      <td>0.500</td>\n      <td>Flying</td>\n      <td>none</td>\n      <td>False</td>\n      <td>0.51</td>\n      <td>8.0</td>\n      <td>190</td>\n      <td>two_wings</td>\n      <td>180</td>\n      <td>1</td>\n    </tr>\n    <tr>\n      <th>714</th>\n      <td>715</td>\n      <td>Noivern</td>\n      <td>Flying</td>\n      <td>Dragon</td>\n      <td>535</td>\n      <td>85</td>\n      <td>70</td>\n      <td>80</td>\n      <td>97</td>\n      <td>80</td>\n      <td>...</td>\n      <td>0.500</td>\n      <td>Flying</td>\n      <td>none</td>\n      <td>False</td>\n      <td>1.50</td>\n      <td>85.0</td>\n      <td>45</td>\n      <td>two_wings</td>\n      <td>181</td>\n      <td>1</td>\n    </tr>\n    <tr>\n      <th>717</th>\n      <td>718</td>\n      <td>Zygarde</td>\n      <td>Dragon</td>\n      <td>Ground</td>\n      <td>600</td>\n      <td>108</td>\n      <td>100</td>\n      <td>121</td>\n      <td>81</td>\n      <td>95</td>\n      <td>...</td>\n      <td>0.500</td>\n      <td>Undiscovered</td>\n      <td>none</td>\n      <td>False</td>\n      <td>5.00</td>\n      <td>305.0</td>\n      <td>3</td>\n      <td>serpentine_body</td>\n      <td>183</td>\n      <td>1</td>\n    </tr>\n    <tr>\n      <th>718</th>\n      <td>719</td>\n      <td>Diancie</td>\n      <td>Rock</td>\n      <td>Fairy</td>\n      <td>600</td>\n      <td>50</td>\n      <td>100</td>\n      <td>150</td>\n      <td>100</td>\n      <td>150</td>\n      <td>...</td>\n      <td>0.500</td>\n      <td>Undiscovered</td>\n      <td>none</td>\n      <td>True</td>\n      <td>0.71</td>\n      <td>8.8</td>\n      <td>3</td>\n      <td>head_arms</td>\n      <td>184</td>\n      <td>1</td>\n    </tr>\n  </tbody>\n</table>\n<p>721 rows × 25 columns</p>\n</div>"
     },
     "execution_count": 13,
     "metadata": {},
     "output_type": "execute_result"
    }
   ],
   "source": [
    "pokemon[\"label_count\"] = pokemon.groupby(\"gower_dbscan\").transform(\"count\").iloc[:, 0]\n",
    "pokemon.sort_values([\"label_count\", \"gower_dbscan\"], ascending=[False, True], inplace=True)\n",
    "pokemon\n"
   ],
   "metadata": {
    "collapsed": false
   }
  },
  {
   "cell_type": "code",
   "execution_count": 14,
   "outputs": [
    {
     "data": {
      "text/plain": "0.9078390917547138"
     },
     "execution_count": 14,
     "metadata": {},
     "output_type": "execute_result"
    }
   ],
   "source": [
    "get_cat_weight(dd[\"gower_dbscan\"])\n"
   ],
   "metadata": {
    "collapsed": false
   }
  },
  {
   "cell_type": "code",
   "execution_count": 15,
   "outputs": [
    {
     "data": {
      "text/plain": "0.6641867713018119"
     },
     "execution_count": 15,
     "metadata": {},
     "output_type": "execute_result"
    }
   ],
   "source": [
    "get_cat_weight(pokemon[\"gower_dbscan\"])\n"
   ],
   "metadata": {
    "collapsed": false
   }
  },
  {
   "cell_type": "code",
   "execution_count": 27,
   "outputs": [
    {
     "name": "stdout",
     "output_type": "stream",
     "text": [
      "(977, 12)\n",
      "Model Name                  488\n",
      "Category                      6\n",
      "Screen Size                  18\n",
      "Screen                       38\n",
      "CPU                         106\n",
      "RAM                           8\n",
      " Storage                     36\n",
      "GPU                          98\n",
      "Operating System              7\n",
      "Operating System Version      5\n",
      "Weight                      166\n",
      "Price                       639\n",
      "dtype: int64\n"
     ]
    },
    {
     "data": {
      "text/plain": "  0%|          | 0/10 [00:00<?, ?it/s]",
      "application/vnd.jupyter.widget-view+json": {
       "version_major": 2,
       "version_minor": 0,
       "model_id": "e121a2b5ee9d4f9e925717da95ba6b60"
      }
     },
     "metadata": {},
     "output_type": "display_data"
    },
    {
     "data": {
      "text/plain": "  0%|          | 0/1 [00:00<?, ?it/s]",
      "application/vnd.jupyter.widget-view+json": {
       "version_major": 2,
       "version_minor": 0,
       "model_id": "7c1770eb3d0046ef84cff13b830e29a6"
      }
     },
     "metadata": {},
     "output_type": "display_data"
    },
    {
     "data": {
      "text/plain": "  0%|          | 0/977 [00:00<?, ?it/s]",
      "application/vnd.jupyter.widget-view+json": {
       "version_major": 2,
       "version_minor": 0,
       "model_id": "0e2294a7c9f64de0b952827747135e95"
      }
     },
     "metadata": {},
     "output_type": "display_data"
    },
    {
     "data": {
      "text/plain": "  0%|          | 0/1000 [00:00<?, ?it/s]",
      "application/vnd.jupyter.widget-view+json": {
       "version_major": 2,
       "version_minor": 0,
       "model_id": "006da804d01245b5a752fb712ca73dc4"
      }
     },
     "metadata": {},
     "output_type": "display_data"
    },
    {
     "name": "stdout",
     "output_type": "stream",
     "text": [
      "({'eps': 0.068, 'min_samples': 1}, 0.5416400184785664)\n"
     ]
    },
    {
     "data": {
      "text/plain": "(array([  1,   2,   3,   4,   5,   6,   8,  21,  30,  61,  76, 258, 301]),\n array([136,  17,   5,   3,   1,   2,   2,   1,   1,   1,   1,   1,   1]))"
     },
     "execution_count": 27,
     "metadata": {},
     "output_type": "execute_result"
    }
   ],
   "source": [
    "laptops = pd.read_csv(\"laptops/laptops_train.csv\", index_col=0)\n",
    "print(laptops.shape)\n",
    "print(laptops.apply(lambda col: col.unique(), axis=0).apply(len))\n",
    "laptops.drop(\"Operating System Version\", axis=1, inplace=True)\n",
    "\n",
    "matrix3 = gower_matrix(laptops.to_numpy(), R=(25, 75), chunksize=20)  # worse without R\n",
    "samples = [{\"eps\": z / 1000, \"min_samples\": 1} for z in range(1, 1001)]\n",
    "results3 = process_map(partial(do_it, matrix=matrix3), samples, chunksize=20)\n",
    "best_params3 = max(results3, key=lambda z: z[1])\n",
    "print(best_params3)\n",
    "laptops[\"gower_dbscan\"] = DBSCAN(metric=\"precomputed\", **best_params3[0]).fit_predict(matrix3)\n",
    "_, counts3 = np.unique(laptops[\"gower_dbscan\"], return_counts=True)\n",
    "np.unique(counts3, return_counts=True)"
   ],
   "metadata": {
    "collapsed": false
   }
  },
  {
   "cell_type": "code",
   "execution_count": 28,
   "outputs": [
    {
     "data": {
      "text/plain": "                       Model Name            Category Screen Size  \\\nManufacturer                                                        \nHP                         250 G6            Notebook       15.6\"   \nAcer                     Aspire 3            Notebook       15.6\"   \nHP                         250 G6            Notebook       15.6\"   \nHP                         250 G6            Notebook       15.6\"   \nDell                Inspiron 3567            Notebook       15.6\"   \n...                           ...                 ...         ...   \nAsus              Chromebook Flip  2 in 1 Convertible       12.5\"   \nHP                   ProBook x360  2 in 1 Convertible       11.6\"   \nDell                       XPS 13           Ultrabook       13.3\"   \nAcer          Aspire F5-573G-510L            Notebook       15.6\"   \nLenovo              ThinkPad T460            Notebook       14.0\"   \n\n                            Screen                                   CPU  \\\nManufacturer                                                               \nHP               Full HD 1920x1080            Intel Core i5 7200U 2.5GHz   \nAcer                      1366x768               AMD A9-Series 9420 3GHz   \nHP                        1366x768            Intel Core i5 7200U 2.5GHz   \nHP               Full HD 1920x1080              Intel Core i3 6006U 2GHz   \nDell             Full HD 1920x1080              Intel Core i3 6006U 2GHz   \n...                            ...                                   ...   \nAsus             Full HD 1920x1080           Intel Core M M7-6Y75 1.2GHz   \nHP            Touchscreen 1366x768  Intel Pentium Quad Core N4200 1.1GHz   \nDell            Quad HD+ 3200x1800            Intel Core i7 6500U 2.5GHz   \nAcer             Full HD 1920x1080            Intel Core i5 7200U 2.5GHz   \nLenovo                    1366x768            Intel Core i5 6200U 2.3GHz   \n\n               RAM               Storage                      GPU  \\\nManufacturer                                                        \nHP             8GB             256GB SSD    Intel HD Graphics 620   \nAcer           4GB             500GB HDD            AMD Radeon R5   \nHP             4GB             500GB HDD    Intel HD Graphics 620   \nHP             4GB             500GB HDD    Intel HD Graphics 520   \nDell           4GB             256GB SSD       AMD Radeon R5 M430   \n...            ...                   ...                      ...   \nAsus           8GB    64GB Flash Storage    Intel HD Graphics 515   \nHP             4GB             256GB SSD    Intel HD Graphics 505   \nDell           8GB             256GB SSD    Intel HD Graphics 520   \nAcer          12GB  128GB SSD +  1TB HDD  Nvidia GeForce GTX 950M   \nLenovo         4GB          508GB Hybrid    Intel HD Graphics 520   \n\n             Operating System  Weight        Price  gower_dbscan  label_count  \nManufacturer                                                                   \nHP                      No OS  1.86kg   5112900.00             2          301  \nAcer                  Windows   2.1kg   3556800.00             2          301  \nHP                      No OS  1.86kg   3502558.80             2          301  \nHP                      No OS  1.86kg   3067651.08             2          301  \nDell                  Windows   2.2kg   4436218.80             2          301  \n...                       ...     ...          ...           ...          ...  \nAsus                Chrome OS   1.2kg  10305828.00           167            1  \nHP                    Windows  1.45kg   6891300.00           168            1  \nDell                  Windows   1.3kg  11275056.00           169            1  \nAcer                  Windows   2.4kg   8972028.00           170            1  \nLenovo                Windows  1.70kg   8909784.00           171            1  \n\n[977 rows x 13 columns]",
      "text/html": "<div>\n<style scoped>\n    .dataframe tbody tr th:only-of-type {\n        vertical-align: middle;\n    }\n\n    .dataframe tbody tr th {\n        vertical-align: top;\n    }\n\n    .dataframe thead th {\n        text-align: right;\n    }\n</style>\n<table border=\"1\" class=\"dataframe\">\n  <thead>\n    <tr style=\"text-align: right;\">\n      <th></th>\n      <th>Model Name</th>\n      <th>Category</th>\n      <th>Screen Size</th>\n      <th>Screen</th>\n      <th>CPU</th>\n      <th>RAM</th>\n      <th>Storage</th>\n      <th>GPU</th>\n      <th>Operating System</th>\n      <th>Weight</th>\n      <th>Price</th>\n      <th>gower_dbscan</th>\n      <th>label_count</th>\n    </tr>\n    <tr>\n      <th>Manufacturer</th>\n      <th></th>\n      <th></th>\n      <th></th>\n      <th></th>\n      <th></th>\n      <th></th>\n      <th></th>\n      <th></th>\n      <th></th>\n      <th></th>\n      <th></th>\n      <th></th>\n      <th></th>\n    </tr>\n  </thead>\n  <tbody>\n    <tr>\n      <th>HP</th>\n      <td>250 G6</td>\n      <td>Notebook</td>\n      <td>15.6\"</td>\n      <td>Full HD 1920x1080</td>\n      <td>Intel Core i5 7200U 2.5GHz</td>\n      <td>8GB</td>\n      <td>256GB SSD</td>\n      <td>Intel HD Graphics 620</td>\n      <td>No OS</td>\n      <td>1.86kg</td>\n      <td>5112900.00</td>\n      <td>2</td>\n      <td>301</td>\n    </tr>\n    <tr>\n      <th>Acer</th>\n      <td>Aspire 3</td>\n      <td>Notebook</td>\n      <td>15.6\"</td>\n      <td>1366x768</td>\n      <td>AMD A9-Series 9420 3GHz</td>\n      <td>4GB</td>\n      <td>500GB HDD</td>\n      <td>AMD Radeon R5</td>\n      <td>Windows</td>\n      <td>2.1kg</td>\n      <td>3556800.00</td>\n      <td>2</td>\n      <td>301</td>\n    </tr>\n    <tr>\n      <th>HP</th>\n      <td>250 G6</td>\n      <td>Notebook</td>\n      <td>15.6\"</td>\n      <td>1366x768</td>\n      <td>Intel Core i5 7200U 2.5GHz</td>\n      <td>4GB</td>\n      <td>500GB HDD</td>\n      <td>Intel HD Graphics 620</td>\n      <td>No OS</td>\n      <td>1.86kg</td>\n      <td>3502558.80</td>\n      <td>2</td>\n      <td>301</td>\n    </tr>\n    <tr>\n      <th>HP</th>\n      <td>250 G6</td>\n      <td>Notebook</td>\n      <td>15.6\"</td>\n      <td>Full HD 1920x1080</td>\n      <td>Intel Core i3 6006U 2GHz</td>\n      <td>4GB</td>\n      <td>500GB HDD</td>\n      <td>Intel HD Graphics 520</td>\n      <td>No OS</td>\n      <td>1.86kg</td>\n      <td>3067651.08</td>\n      <td>2</td>\n      <td>301</td>\n    </tr>\n    <tr>\n      <th>Dell</th>\n      <td>Inspiron 3567</td>\n      <td>Notebook</td>\n      <td>15.6\"</td>\n      <td>Full HD 1920x1080</td>\n      <td>Intel Core i3 6006U 2GHz</td>\n      <td>4GB</td>\n      <td>256GB SSD</td>\n      <td>AMD Radeon R5 M430</td>\n      <td>Windows</td>\n      <td>2.2kg</td>\n      <td>4436218.80</td>\n      <td>2</td>\n      <td>301</td>\n    </tr>\n    <tr>\n      <th>...</th>\n      <td>...</td>\n      <td>...</td>\n      <td>...</td>\n      <td>...</td>\n      <td>...</td>\n      <td>...</td>\n      <td>...</td>\n      <td>...</td>\n      <td>...</td>\n      <td>...</td>\n      <td>...</td>\n      <td>...</td>\n      <td>...</td>\n    </tr>\n    <tr>\n      <th>Asus</th>\n      <td>Chromebook Flip</td>\n      <td>2 in 1 Convertible</td>\n      <td>12.5\"</td>\n      <td>Full HD 1920x1080</td>\n      <td>Intel Core M M7-6Y75 1.2GHz</td>\n      <td>8GB</td>\n      <td>64GB Flash Storage</td>\n      <td>Intel HD Graphics 515</td>\n      <td>Chrome OS</td>\n      <td>1.2kg</td>\n      <td>10305828.00</td>\n      <td>167</td>\n      <td>1</td>\n    </tr>\n    <tr>\n      <th>HP</th>\n      <td>ProBook x360</td>\n      <td>2 in 1 Convertible</td>\n      <td>11.6\"</td>\n      <td>Touchscreen 1366x768</td>\n      <td>Intel Pentium Quad Core N4200 1.1GHz</td>\n      <td>4GB</td>\n      <td>256GB SSD</td>\n      <td>Intel HD Graphics 505</td>\n      <td>Windows</td>\n      <td>1.45kg</td>\n      <td>6891300.00</td>\n      <td>168</td>\n      <td>1</td>\n    </tr>\n    <tr>\n      <th>Dell</th>\n      <td>XPS 13</td>\n      <td>Ultrabook</td>\n      <td>13.3\"</td>\n      <td>Quad HD+ 3200x1800</td>\n      <td>Intel Core i7 6500U 2.5GHz</td>\n      <td>8GB</td>\n      <td>256GB SSD</td>\n      <td>Intel HD Graphics 520</td>\n      <td>Windows</td>\n      <td>1.3kg</td>\n      <td>11275056.00</td>\n      <td>169</td>\n      <td>1</td>\n    </tr>\n    <tr>\n      <th>Acer</th>\n      <td>Aspire F5-573G-510L</td>\n      <td>Notebook</td>\n      <td>15.6\"</td>\n      <td>Full HD 1920x1080</td>\n      <td>Intel Core i5 7200U 2.5GHz</td>\n      <td>12GB</td>\n      <td>128GB SSD +  1TB HDD</td>\n      <td>Nvidia GeForce GTX 950M</td>\n      <td>Windows</td>\n      <td>2.4kg</td>\n      <td>8972028.00</td>\n      <td>170</td>\n      <td>1</td>\n    </tr>\n    <tr>\n      <th>Lenovo</th>\n      <td>ThinkPad T460</td>\n      <td>Notebook</td>\n      <td>14.0\"</td>\n      <td>1366x768</td>\n      <td>Intel Core i5 6200U 2.3GHz</td>\n      <td>4GB</td>\n      <td>508GB Hybrid</td>\n      <td>Intel HD Graphics 520</td>\n      <td>Windows</td>\n      <td>1.70kg</td>\n      <td>8909784.00</td>\n      <td>171</td>\n      <td>1</td>\n    </tr>\n  </tbody>\n</table>\n<p>977 rows × 13 columns</p>\n</div>"
     },
     "execution_count": 28,
     "metadata": {},
     "output_type": "execute_result"
    }
   ],
   "source": [
    "laptops[\"label_count\"] = laptops.groupby(\"gower_dbscan\").transform(\"count\").iloc[:, 0]\n",
    "laptops.sort_values([\"label_count\", \"gower_dbscan\"], ascending=[False, True], inplace=True)\n",
    "laptops\n"
   ],
   "metadata": {
    "collapsed": false
   }
  },
  {
   "cell_type": "code",
   "execution_count": 17,
   "outputs": [],
   "source": [],
   "metadata": {
    "collapsed": false
   }
  }
 ],
 "metadata": {
  "kernelspec": {
   "display_name": "Python 3",
   "language": "python",
   "name": "python3"
  },
  "language_info": {
   "codemirror_mode": {
    "name": "ipython",
    "version": 2
   },
   "file_extension": ".py",
   "mimetype": "text/x-python",
   "name": "python",
   "nbconvert_exporter": "python",
   "pygments_lexer": "ipython2",
   "version": "2.7.6"
  }
 },
 "nbformat": 4,
 "nbformat_minor": 0
}
