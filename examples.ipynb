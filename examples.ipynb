{
 "cells": [
  {
   "cell_type": "code",
   "execution_count": 1,
   "metadata": {
    "collapsed": true
   },
   "outputs": [],
   "source": [
    "import pandas as pd\n",
    "from sklearn.cluster import DBSCAN\n",
    "\n",
    "from gower.gower_dist import *"
   ]
  },
  {
   "cell_type": "markdown",
   "source": [
    "# Simple example from D'Orazio"
   ],
   "metadata": {
    "collapsed": false
   },
   "outputs": []
  },
  {
   "cell_type": "code",
   "execution_count": 2,
   "outputs": [],
   "source": [
    "df = pd.DataFrame({\"Sex1\": [\"M\", \"M\", \"F\", \"F\", \"F\", \"M\", \"M\", \"F\", \"F\", \"F\"],\n",
    "                   \"Sex2\": [\"M\", \"M\", \"F\", \"F\", \"F\", \"F\", \"F\", \"M\", \"M\", \"M\"],\n",
    "                   \"Age1\": [15] * 10,\n",
    "                   \"Age2\": [15, 36, 58, 78, 100, 15, 36, 58, 78, 100]})"
   ],
   "metadata": {
    "collapsed": false
   }
  },
  {
   "cell_type": "code",
   "execution_count": 3,
   "outputs": [
    {
     "data": {
      "text/plain": "  0%|          | 0/10 [00:00<?, ?it/s]",
      "application/vnd.jupyter.widget-view+json": {
       "version_major": 2,
       "version_minor": 0,
       "model_id": "124f69592d9944aabc1069b2e0ca5088"
      }
     },
     "metadata": {},
     "output_type": "display_data"
    },
    {
     "name": "stdout",
     "output_type": "stream",
     "text": [
      "[0.         0.12352941 0.25294118 0.37058824 0.5        0.5\n",
      " 0.62352941 0.75294118 0.87058824 1.        ]\n"
     ]
    },
    {
     "data": {
      "text/plain": "  Sex1 Sex2  Age1  Age2\n0    M    M    15    15\n1    M    M    15    36\n2    F    F    15    58\n3    F    F    15    78\n4    F    F    15   100\n5    M    F    15    15\n6    M    F    15    36\n7    F    M    15    58\n8    F    M    15    78\n9    F    M    15   100",
      "text/html": "<div>\n<style scoped>\n    .dataframe tbody tr th:only-of-type {\n        vertical-align: middle;\n    }\n\n    .dataframe tbody tr th {\n        vertical-align: top;\n    }\n\n    .dataframe thead th {\n        text-align: right;\n    }\n</style>\n<table border=\"1\" class=\"dataframe\">\n  <thead>\n    <tr style=\"text-align: right;\">\n      <th></th>\n      <th>Sex1</th>\n      <th>Sex2</th>\n      <th>Age1</th>\n      <th>Age2</th>\n    </tr>\n  </thead>\n  <tbody>\n    <tr>\n      <th>0</th>\n      <td>M</td>\n      <td>M</td>\n      <td>15</td>\n      <td>15</td>\n    </tr>\n    <tr>\n      <th>1</th>\n      <td>M</td>\n      <td>M</td>\n      <td>15</td>\n      <td>36</td>\n    </tr>\n    <tr>\n      <th>2</th>\n      <td>F</td>\n      <td>F</td>\n      <td>15</td>\n      <td>58</td>\n    </tr>\n    <tr>\n      <th>3</th>\n      <td>F</td>\n      <td>F</td>\n      <td>15</td>\n      <td>78</td>\n    </tr>\n    <tr>\n      <th>4</th>\n      <td>F</td>\n      <td>F</td>\n      <td>15</td>\n      <td>100</td>\n    </tr>\n    <tr>\n      <th>5</th>\n      <td>M</td>\n      <td>F</td>\n      <td>15</td>\n      <td>15</td>\n    </tr>\n    <tr>\n      <th>6</th>\n      <td>M</td>\n      <td>F</td>\n      <td>15</td>\n      <td>36</td>\n    </tr>\n    <tr>\n      <th>7</th>\n      <td>F</td>\n      <td>M</td>\n      <td>15</td>\n      <td>58</td>\n    </tr>\n    <tr>\n      <th>8</th>\n      <td>F</td>\n      <td>M</td>\n      <td>15</td>\n      <td>78</td>\n    </tr>\n    <tr>\n      <th>9</th>\n      <td>F</td>\n      <td>M</td>\n      <td>15</td>\n      <td>100</td>\n    </tr>\n  </tbody>\n</table>\n</div>"
     },
     "execution_count": 3,
     "metadata": {},
     "output_type": "execute_result"
    }
   ],
   "source": [
    "distances = np.diag(gower_matrix(df[[\"Sex1\", \"Age1\"]].to_numpy(), df[[\"Sex2\", \"Age2\"]].to_numpy(), weight=\"uniform\"))\n",
    "print(distances)\n",
    "df.loc[np.argsort(distances)]"
   ],
   "metadata": {
    "collapsed": false
   }
  },
  {
   "cell_type": "code",
   "execution_count": 4,
   "outputs": [
    {
     "data": {
      "text/plain": "  0%|          | 0/1 [00:00<?, ?it/s]",
      "application/vnd.jupyter.widget-view+json": {
       "version_major": 2,
       "version_minor": 0,
       "model_id": "4479be8bcd0545f78db56bd43b16e7ff"
      }
     },
     "metadata": {},
     "output_type": "display_data"
    },
    {
     "data": {
      "text/plain": "  0%|          | 0/1 [00:00<?, ?it/s]",
      "application/vnd.jupyter.widget-view+json": {
       "version_major": 2,
       "version_minor": 0,
       "model_id": "1c6d09816e1c476aa4c44cef3606fc46"
      }
     },
     "metadata": {},
     "output_type": "display_data"
    },
    {
     "data": {
      "text/plain": "  0%|          | 0/10 [00:00<?, ?it/s]",
      "application/vnd.jupyter.widget-view+json": {
       "version_major": 2,
       "version_minor": 0,
       "model_id": "561fcf1706d548fbbb0867ef3e167d10"
      }
     },
     "metadata": {},
     "output_type": "display_data"
    },
    {
     "name": "stdout",
     "output_type": "stream",
     "text": [
      "[0.         0.17758292 0.36362217 0.53274876 0.71878801 0.28121199\n",
      " 0.45879491 0.64483416 0.81396075 1.        ]\n"
     ]
    },
    {
     "data": {
      "text/plain": "  Sex1 Sex2  Age1  Age2\n0    M    M    15    15\n1    M    M    15    36\n5    M    F    15    15\n2    F    F    15    58\n6    M    F    15    36\n3    F    F    15    78\n7    F    M    15    58\n4    F    F    15   100\n8    F    M    15    78\n9    F    M    15   100",
      "text/html": "<div>\n<style scoped>\n    .dataframe tbody tr th:only-of-type {\n        vertical-align: middle;\n    }\n\n    .dataframe tbody tr th {\n        vertical-align: top;\n    }\n\n    .dataframe thead th {\n        text-align: right;\n    }\n</style>\n<table border=\"1\" class=\"dataframe\">\n  <thead>\n    <tr style=\"text-align: right;\">\n      <th></th>\n      <th>Sex1</th>\n      <th>Sex2</th>\n      <th>Age1</th>\n      <th>Age2</th>\n    </tr>\n  </thead>\n  <tbody>\n    <tr>\n      <th>0</th>\n      <td>M</td>\n      <td>M</td>\n      <td>15</td>\n      <td>15</td>\n    </tr>\n    <tr>\n      <th>1</th>\n      <td>M</td>\n      <td>M</td>\n      <td>15</td>\n      <td>36</td>\n    </tr>\n    <tr>\n      <th>5</th>\n      <td>M</td>\n      <td>F</td>\n      <td>15</td>\n      <td>15</td>\n    </tr>\n    <tr>\n      <th>2</th>\n      <td>F</td>\n      <td>F</td>\n      <td>15</td>\n      <td>58</td>\n    </tr>\n    <tr>\n      <th>6</th>\n      <td>M</td>\n      <td>F</td>\n      <td>15</td>\n      <td>36</td>\n    </tr>\n    <tr>\n      <th>3</th>\n      <td>F</td>\n      <td>F</td>\n      <td>15</td>\n      <td>78</td>\n    </tr>\n    <tr>\n      <th>7</th>\n      <td>F</td>\n      <td>M</td>\n      <td>15</td>\n      <td>58</td>\n    </tr>\n    <tr>\n      <th>4</th>\n      <td>F</td>\n      <td>F</td>\n      <td>15</td>\n      <td>100</td>\n    </tr>\n    <tr>\n      <th>8</th>\n      <td>F</td>\n      <td>M</td>\n      <td>15</td>\n      <td>78</td>\n    </tr>\n    <tr>\n      <th>9</th>\n      <td>F</td>\n      <td>M</td>\n      <td>15</td>\n      <td>100</td>\n    </tr>\n  </tbody>\n</table>\n</div>"
     },
     "execution_count": 4,
     "metadata": {},
     "output_type": "execute_result"
    }
   ],
   "source": [
    "distances = np.diag(gower_matrix(df[[\"Sex1\", \"Age1\"]].to_numpy(), df[[\"Sex2\", \"Age2\"]].to_numpy()))\n",
    "print(distances)\n",
    "df.loc[np.argsort(distances)]"
   ],
   "metadata": {
    "collapsed": false
   }
  },
  {
   "cell_type": "markdown",
   "source": [
    "# Metrics\n",
    "\n",
    "### We can also use the categorical weight function to measure cluster quality and thereby tune clustering algorithms such as DBSCAN.\n",
    "\n",
    "##### I calculated Gower distances for each of the three datasets above using the new weighting scheme and uniform weighting, and then ran a grid search for each of the resultant sets of distances with DBSCAN based on the new weighting formula for categorical variables. The new scheme yielded higher maximum performance across all three datasets."
   ],
   "metadata": {
    "collapsed": false
   }
  },
  {
   "cell_type": "markdown",
   "source": [
    "# Dog adoption dataset"
   ],
   "metadata": {
    "collapsed": false
   }
  },
  {
   "cell_type": "code",
   "execution_count": 5,
   "outputs": [
    {
     "name": "stdout",
     "output_type": "stream",
     "text": [
      "breed_secondary\n",
      "color_primary\n",
      "color_secondary\n",
      "color_tertiary\n",
      "declawed\n",
      "env_cats\n"
     ]
    },
    {
     "data": {
      "text/plain": "  0%|          | 0/28 [00:00<?, ?it/s]",
      "application/vnd.jupyter.widget-view+json": {
       "version_major": 2,
       "version_minor": 0,
       "model_id": "74ee937f9ef54f638bc889cc6a1f6b76"
      }
     },
     "metadata": {},
     "output_type": "display_data"
    },
    {
     "data": {
      "text/plain": "0it [00:00, ?it/s]",
      "application/vnd.jupyter.widget-view+json": {
       "version_major": 2,
       "version_minor": 0,
       "model_id": "0251eef222af4b81b6893f99568a0edf"
      }
     },
     "metadata": {},
     "output_type": "display_data"
    },
    {
     "data": {
      "text/plain": "  0%|          | 0/13729 [00:00<?, ?it/s]",
      "application/vnd.jupyter.widget-view+json": {
       "version_major": 2,
       "version_minor": 0,
       "model_id": "a09117362ac34c049f19dc82d6e958ab"
      }
     },
     "metadata": {},
     "output_type": "display_data"
    },
    {
     "data": {
      "text/plain": "  0%|          | 0/100 [00:00<?, ?it/s]",
      "application/vnd.jupyter.widget-view+json": {
       "version_major": 2,
       "version_minor": 0,
       "model_id": "6c6651efb89545b0896bbaba18c0322c"
      }
     },
     "metadata": {},
     "output_type": "display_data"
    },
    {
     "name": "stdout",
     "output_type": "stream",
     "text": [
      "({'eps': 0.51, 'min_samples': 1}, 0.9126212324948002)\n",
      "0.9126212324948002\n",
      "(array([  1,   2,   3,   4,   5,   6,   7,   8,   9,  10,  11,  12,  13,\n",
      "        14,  15,  16,  17,  18,  19,  20,  21,  22,  23,  24,  25,  26,\n",
      "        27,  28,  29,  30,  31,  32,  33,  35,  36,  37,  38,  39,  40,\n",
      "        41,  42,  43,  44,  45,  46,  47,  48,  53,  55,  58,  60,  61,\n",
      "        63,  65,  69,  70,  72,  73,  82,  83,  84,  92, 102, 104, 108,\n",
      "       129, 132, 141, 146, 154, 182, 252]), array([630, 305, 165, 138, 106,  77,  63,  42,  57,  33,  35,  35,  27,\n",
      "        22,  17,  15,  16,  10,  13,  11,  15,   8,   8,   4,   7,   4,\n",
      "         4,   5,   5,   3,   7,   3,   2,   3,   2,   1,   3,   4,   2,\n",
      "         6,   1,   1,   3,   1,   1,   2,   2,   2,   1,   2,   1,   2,\n",
      "         1,   1,   1,   2,   1,   1,   1,   1,   1,   1,   1,   1,   1,\n",
      "         1,   1,   1,   1,   1,   1,   1]))\n"
     ]
    },
    {
     "data": {
      "text/plain": "          org_id                                                url type.x  \\\nid                                                                           \n46021535  TX2394  https://www.petfinder.com/dog/brody-bear-46021...    Dog   \n46021378  TX2394  https://www.petfinder.com/dog/brody-46021378/c...    Dog   \n46021361  TX2394  https://www.petfinder.com/dog/daisey-may-46021...    Dog   \n46021331  TX2394  https://www.petfinder.com/dog/daisey-mae-46021...    Dog   \n46021276  TX2394  https://www.petfinder.com/dog/daisey-mae-3-460...    Dog   \n...          ...                                                ...    ...   \n45070846    WV80  https://www.petfinder.com/dog/manie-45070846/w...    Dog   \n44531731    WV04  https://www.petfinder.com/dog/coco-44531731/wv...    Dog   \n44175060    WV37  https://www.petfinder.com/dog/skylee-44175060/...    Dog   \n38637037   WV193  https://www.petfinder.com/dog/rocky-38637037/w...    Dog   \n28351171   VA674  https://www.petfinder.com/dog/chauncey-2835117...    Dog   \n\n         species     breed_primary breed_mixed breed_unknown     age     sex  \\\nid                                                                             \n46021535     Dog         Schnauzer        True         False    Baby    Male   \n46021378     Dog         Schnauzer        True         False    Baby    Male   \n46021361     Dog        Weimaraner        True         False   Young  Female   \n46021331     Dog        Weimaraner        True         False   Young  Female   \n46021276     Dog        Weimaraner        True         False   Young  Female   \n...          ...               ...         ...           ...     ...     ...   \n45070846     Dog           Terrier        True         False   Adult    Male   \n44531731     Dog  Pit Bull Terrier        True         False   Adult  Female   \n44175060     Dog               Pug        True         False  Senior  Female   \n38637037     Dog            Beagle       False         False   Adult    Male   \n28351171     Dog           Pointer        True         False   Adult    Male   \n\n            size  ... contact_city contact_state contact_zip contact_country  \\\nid                ...                                                          \n46021535   Small  ...  Brattleboro            VT       05301              US   \n46021378   Small  ...       Groton            CT       06340              US   \n46021361  Medium  ...  Brattleboro            VT       05301              US   \n46021331  Medium  ...       Boston            MA       02128              US   \n46021276  Medium  ...       Groton            CT       06340              US   \n...          ...  ...          ...           ...         ...             ...   \n45070846   Small  ...  Scott Depot            WV       25560              US   \n44531731  Medium  ...     Fairmont            WV       26554              US   \n44175060  Medium  ...     Dellslow            WV       26531              US   \n38637037   Small  ...    Belington            WV       26250              US   \n28351171   Large  ...   Pearisburg            VA       24134              US   \n\n         stateQ    accessed type.y  \\\nid                                   \n46021535     CT  2019-09-20    Dog   \n46021378     CT  2019-09-20    Dog   \n46021361     CT  2019-09-20    Dog   \n46021331     CT  2019-09-20    Dog   \n46021276     CT  2019-09-20    Dog   \n...         ...         ...    ...   \n45070846     WV  2019-09-20    Dog   \n44531731     WV  2019-09-20    Dog   \n44175060     WV  2019-09-20    Dog   \n38637037     WV  2019-09-20    Dog   \n28351171     WV  2019-09-20    Dog   \n\n                                                description gower_dbscan  \\\nid                                                                         \n46021535  Howdy! Caught you looking! My name is Brody!  ...          229   \n46021378  Howdy! Caught you looking! My name is Brody!  ...          229   \n46021361  Howdy! Caught you looking! My name is Daisey M...          229   \n46021331  Howdy! Caught you looking! My name is Daisey M...          229   \n46021276  Howdy! Caught you looking! My name is Daisey M...          229   \n...                                                     ...          ...   \n45070846  Manie's birthday is 6/21/2018. He likes attent...         1946   \n44531731  If you'd like to learn more about one of our a...         1947   \n44175060  Hi Skylee !! ??\\nSkylee is a senior girl, who ...         1948   \n38637037  Meet Rocky, He is a 9 year old male Chihuahua ...         1951   \n28351171  Chauncey is a gentle giant who loves people an...         1952   \n\n         label_count  \nid                    \n46021535         252  \n46021378         252  \n46021361         252  \n46021331         252  \n46021276         252  \n...              ...  \n45070846           1  \n44531731           1  \n44175060           1  \n38637037           1  \n28351171           1  \n\n[13729 rows x 30 columns]",
      "text/html": "<div>\n<style scoped>\n    .dataframe tbody tr th:only-of-type {\n        vertical-align: middle;\n    }\n\n    .dataframe tbody tr th {\n        vertical-align: top;\n    }\n\n    .dataframe thead th {\n        text-align: right;\n    }\n</style>\n<table border=\"1\" class=\"dataframe\">\n  <thead>\n    <tr style=\"text-align: right;\">\n      <th></th>\n      <th>org_id</th>\n      <th>url</th>\n      <th>type.x</th>\n      <th>species</th>\n      <th>breed_primary</th>\n      <th>breed_mixed</th>\n      <th>breed_unknown</th>\n      <th>age</th>\n      <th>sex</th>\n      <th>size</th>\n      <th>...</th>\n      <th>contact_city</th>\n      <th>contact_state</th>\n      <th>contact_zip</th>\n      <th>contact_country</th>\n      <th>stateQ</th>\n      <th>accessed</th>\n      <th>type.y</th>\n      <th>description</th>\n      <th>gower_dbscan</th>\n      <th>label_count</th>\n    </tr>\n    <tr>\n      <th>id</th>\n      <th></th>\n      <th></th>\n      <th></th>\n      <th></th>\n      <th></th>\n      <th></th>\n      <th></th>\n      <th></th>\n      <th></th>\n      <th></th>\n      <th></th>\n      <th></th>\n      <th></th>\n      <th></th>\n      <th></th>\n      <th></th>\n      <th></th>\n      <th></th>\n      <th></th>\n      <th></th>\n      <th></th>\n    </tr>\n  </thead>\n  <tbody>\n    <tr>\n      <th>46021535</th>\n      <td>TX2394</td>\n      <td>https://www.petfinder.com/dog/brody-bear-46021...</td>\n      <td>Dog</td>\n      <td>Dog</td>\n      <td>Schnauzer</td>\n      <td>True</td>\n      <td>False</td>\n      <td>Baby</td>\n      <td>Male</td>\n      <td>Small</td>\n      <td>...</td>\n      <td>Brattleboro</td>\n      <td>VT</td>\n      <td>05301</td>\n      <td>US</td>\n      <td>CT</td>\n      <td>2019-09-20</td>\n      <td>Dog</td>\n      <td>Howdy! Caught you looking! My name is Brody!  ...</td>\n      <td>229</td>\n      <td>252</td>\n    </tr>\n    <tr>\n      <th>46021378</th>\n      <td>TX2394</td>\n      <td>https://www.petfinder.com/dog/brody-46021378/c...</td>\n      <td>Dog</td>\n      <td>Dog</td>\n      <td>Schnauzer</td>\n      <td>True</td>\n      <td>False</td>\n      <td>Baby</td>\n      <td>Male</td>\n      <td>Small</td>\n      <td>...</td>\n      <td>Groton</td>\n      <td>CT</td>\n      <td>06340</td>\n      <td>US</td>\n      <td>CT</td>\n      <td>2019-09-20</td>\n      <td>Dog</td>\n      <td>Howdy! Caught you looking! My name is Brody!  ...</td>\n      <td>229</td>\n      <td>252</td>\n    </tr>\n    <tr>\n      <th>46021361</th>\n      <td>TX2394</td>\n      <td>https://www.petfinder.com/dog/daisey-may-46021...</td>\n      <td>Dog</td>\n      <td>Dog</td>\n      <td>Weimaraner</td>\n      <td>True</td>\n      <td>False</td>\n      <td>Young</td>\n      <td>Female</td>\n      <td>Medium</td>\n      <td>...</td>\n      <td>Brattleboro</td>\n      <td>VT</td>\n      <td>05301</td>\n      <td>US</td>\n      <td>CT</td>\n      <td>2019-09-20</td>\n      <td>Dog</td>\n      <td>Howdy! Caught you looking! My name is Daisey M...</td>\n      <td>229</td>\n      <td>252</td>\n    </tr>\n    <tr>\n      <th>46021331</th>\n      <td>TX2394</td>\n      <td>https://www.petfinder.com/dog/daisey-mae-46021...</td>\n      <td>Dog</td>\n      <td>Dog</td>\n      <td>Weimaraner</td>\n      <td>True</td>\n      <td>False</td>\n      <td>Young</td>\n      <td>Female</td>\n      <td>Medium</td>\n      <td>...</td>\n      <td>Boston</td>\n      <td>MA</td>\n      <td>02128</td>\n      <td>US</td>\n      <td>CT</td>\n      <td>2019-09-20</td>\n      <td>Dog</td>\n      <td>Howdy! Caught you looking! My name is Daisey M...</td>\n      <td>229</td>\n      <td>252</td>\n    </tr>\n    <tr>\n      <th>46021276</th>\n      <td>TX2394</td>\n      <td>https://www.petfinder.com/dog/daisey-mae-3-460...</td>\n      <td>Dog</td>\n      <td>Dog</td>\n      <td>Weimaraner</td>\n      <td>True</td>\n      <td>False</td>\n      <td>Young</td>\n      <td>Female</td>\n      <td>Medium</td>\n      <td>...</td>\n      <td>Groton</td>\n      <td>CT</td>\n      <td>06340</td>\n      <td>US</td>\n      <td>CT</td>\n      <td>2019-09-20</td>\n      <td>Dog</td>\n      <td>Howdy! Caught you looking! My name is Daisey M...</td>\n      <td>229</td>\n      <td>252</td>\n    </tr>\n    <tr>\n      <th>...</th>\n      <td>...</td>\n      <td>...</td>\n      <td>...</td>\n      <td>...</td>\n      <td>...</td>\n      <td>...</td>\n      <td>...</td>\n      <td>...</td>\n      <td>...</td>\n      <td>...</td>\n      <td>...</td>\n      <td>...</td>\n      <td>...</td>\n      <td>...</td>\n      <td>...</td>\n      <td>...</td>\n      <td>...</td>\n      <td>...</td>\n      <td>...</td>\n      <td>...</td>\n      <td>...</td>\n    </tr>\n    <tr>\n      <th>45070846</th>\n      <td>WV80</td>\n      <td>https://www.petfinder.com/dog/manie-45070846/w...</td>\n      <td>Dog</td>\n      <td>Dog</td>\n      <td>Terrier</td>\n      <td>True</td>\n      <td>False</td>\n      <td>Adult</td>\n      <td>Male</td>\n      <td>Small</td>\n      <td>...</td>\n      <td>Scott Depot</td>\n      <td>WV</td>\n      <td>25560</td>\n      <td>US</td>\n      <td>WV</td>\n      <td>2019-09-20</td>\n      <td>Dog</td>\n      <td>Manie's birthday is 6/21/2018. He likes attent...</td>\n      <td>1946</td>\n      <td>1</td>\n    </tr>\n    <tr>\n      <th>44531731</th>\n      <td>WV04</td>\n      <td>https://www.petfinder.com/dog/coco-44531731/wv...</td>\n      <td>Dog</td>\n      <td>Dog</td>\n      <td>Pit Bull Terrier</td>\n      <td>True</td>\n      <td>False</td>\n      <td>Adult</td>\n      <td>Female</td>\n      <td>Medium</td>\n      <td>...</td>\n      <td>Fairmont</td>\n      <td>WV</td>\n      <td>26554</td>\n      <td>US</td>\n      <td>WV</td>\n      <td>2019-09-20</td>\n      <td>Dog</td>\n      <td>If you'd like to learn more about one of our a...</td>\n      <td>1947</td>\n      <td>1</td>\n    </tr>\n    <tr>\n      <th>44175060</th>\n      <td>WV37</td>\n      <td>https://www.petfinder.com/dog/skylee-44175060/...</td>\n      <td>Dog</td>\n      <td>Dog</td>\n      <td>Pug</td>\n      <td>True</td>\n      <td>False</td>\n      <td>Senior</td>\n      <td>Female</td>\n      <td>Medium</td>\n      <td>...</td>\n      <td>Dellslow</td>\n      <td>WV</td>\n      <td>26531</td>\n      <td>US</td>\n      <td>WV</td>\n      <td>2019-09-20</td>\n      <td>Dog</td>\n      <td>Hi Skylee !! ??\\nSkylee is a senior girl, who ...</td>\n      <td>1948</td>\n      <td>1</td>\n    </tr>\n    <tr>\n      <th>38637037</th>\n      <td>WV193</td>\n      <td>https://www.petfinder.com/dog/rocky-38637037/w...</td>\n      <td>Dog</td>\n      <td>Dog</td>\n      <td>Beagle</td>\n      <td>False</td>\n      <td>False</td>\n      <td>Adult</td>\n      <td>Male</td>\n      <td>Small</td>\n      <td>...</td>\n      <td>Belington</td>\n      <td>WV</td>\n      <td>26250</td>\n      <td>US</td>\n      <td>WV</td>\n      <td>2019-09-20</td>\n      <td>Dog</td>\n      <td>Meet Rocky, He is a 9 year old male Chihuahua ...</td>\n      <td>1951</td>\n      <td>1</td>\n    </tr>\n    <tr>\n      <th>28351171</th>\n      <td>VA674</td>\n      <td>https://www.petfinder.com/dog/chauncey-2835117...</td>\n      <td>Dog</td>\n      <td>Dog</td>\n      <td>Pointer</td>\n      <td>True</td>\n      <td>False</td>\n      <td>Adult</td>\n      <td>Male</td>\n      <td>Large</td>\n      <td>...</td>\n      <td>Pearisburg</td>\n      <td>VA</td>\n      <td>24134</td>\n      <td>US</td>\n      <td>WV</td>\n      <td>2019-09-20</td>\n      <td>Dog</td>\n      <td>Chauncey is a gentle giant who loves people an...</td>\n      <td>1952</td>\n      <td>1</td>\n    </tr>\n  </tbody>\n</table>\n<p>13729 rows × 30 columns</p>\n</div>"
     },
     "execution_count": 5,
     "metadata": {},
     "output_type": "execute_result"
    }
   ],
   "source": [
    "dd = pd.read_csv(\"dog_adoption/allDogDescriptions.csv\", index_col=0)\n",
    "dd.set_index(\"id\", inplace=True, drop=True)\n",
    "\n",
    "\n",
    "# get rid of columns with the most destructive nans\n",
    "\n",
    "def isolate_nans(column):\n",
    "    all_other_nans = nans[[c for c in cols if c != column]].sum(axis=1)\n",
    "    mask = all_other_nans < np.median(all_other_nans)\n",
    "    mask &= nans[column]\n",
    "    return mask.sum()\n",
    "\n",
    "\n",
    "nans = dd.isna()\n",
    "cols = dd.columns\n",
    "isolated_nans = {c: isolate_nans(c) for c in cols}\n",
    "median_count = np.median([v for v in isolated_nans.values() if v > 0])\n",
    "for column, count in isolated_nans.items():\n",
    "    if count > median_count:\n",
    "        print(column)\n",
    "        dd.drop(column, axis=1, inplace=True)\n",
    "dd.dropna(inplace=True)  # dd.mode().iloc[0]\n",
    "\n",
    "# make bools strings\n",
    "\n",
    "is_bool = dd.dtypes == bool\n",
    "dd.loc[:, is_bool] = dd[dd.columns[is_bool]].astype(str)\n",
    "\n",
    "matrix = gower_matrix(dd.to_numpy(), chunksize=20)\n",
    "samples = [{\"eps\": z / 100, \"min_samples\": 1} for z in range(1, 101)]\n",
    "results = process_map(partial(do_it, matrix=matrix), samples, chunksize=1)\n",
    "best_params = max(results, key=lambda z: z[1])\n",
    "print(best_params)\n",
    "dd[\"gower_dbscan\"] = DBSCAN(metric=\"precomputed\", **best_params[0]).fit_predict(matrix)\n",
    "print(get_cat_weight(dd[\"gower_dbscan\"]))\n",
    "_, counts = np.unique(dd[\"gower_dbscan\"], return_counts=True)\n",
    "print(np.unique(counts, return_counts=True))\n",
    "\n",
    "dd[\"label_count\"] = dd.groupby(\"gower_dbscan\").transform(\"count\").iloc[:, 0]\n",
    "dd.sort_values([\"label_count\", \"gower_dbscan\"], ascending=[False, True], inplace=True)\n",
    "dd\n"
   ],
   "metadata": {
    "collapsed": false
   }
  },
  {
   "cell_type": "markdown",
   "source": [
    "# Pokemon dataset"
   ],
   "metadata": {
    "collapsed": false
   }
  },
  {
   "cell_type": "code",
   "execution_count": 6,
   "outputs": [
    {
     "data": {
      "text/plain": "  0%|          | 0/10 [00:00<?, ?it/s]",
      "application/vnd.jupyter.widget-view+json": {
       "version_major": 2,
       "version_minor": 0,
       "model_id": "09eef1c7daa64a449c08237005c5bc4b"
      }
     },
     "metadata": {},
     "output_type": "display_data"
    },
    {
     "data": {
      "text/plain": "  0%|          | 0/13 [00:00<?, ?it/s]",
      "application/vnd.jupyter.widget-view+json": {
       "version_major": 2,
       "version_minor": 0,
       "model_id": "c17335bb4000420dbc2c99550611ee4e"
      }
     },
     "metadata": {},
     "output_type": "display_data"
    },
    {
     "data": {
      "text/plain": "  0%|          | 0/721 [00:00<?, ?it/s]",
      "application/vnd.jupyter.widget-view+json": {
       "version_major": 2,
       "version_minor": 0,
       "model_id": "cff2b8fbb326426481843190ec83f6c6"
      }
     },
     "metadata": {},
     "output_type": "display_data"
    },
    {
     "data": {
      "text/plain": "  0%|          | 0/1000 [00:00<?, ?it/s]",
      "application/vnd.jupyter.widget-view+json": {
       "version_major": 2,
       "version_minor": 0,
       "model_id": "2c30f53b99614481b6eae97f38e97468"
      }
     },
     "metadata": {},
     "output_type": "display_data"
    },
    {
     "name": "stdout",
     "output_type": "stream",
     "text": [
      "({'eps': 0.14, 'min_samples': 1}, 0.43871969037222813)\n",
      "(array([ 1,  2,  3,  4,  5,  6,  7,  8,  9, 12, 13, 23, 33, 62]), array([301,  64,  25,   2,   4,   1,   2,   1,   2,   1,   1,   1,   1,\n",
      "         1]))\n"
     ]
    },
    {
     "data": {
      "text/plain": "     Number       Name    Type_1  Type_2  Total   HP  Attack  Defense  Sp_Atk  \\\n18       19    Rattata    Normal    none    253   30      56       35      25   \n19       20   Raticate    Normal    none    413   55      81       60      50   \n24       25    Pikachu  Electric    none    320   35      55       40      50   \n25       26     Raichu  Electric    none    485   60      90       55      90   \n36       37     Vulpix      Fire    none    299   38      41       40      50   \n..      ...        ...       ...     ...    ...  ...     ...      ...     ...   \n716     717    Yveltal      Dark  Flying    680  126     131       95     131   \n717     718    Zygarde    Dragon  Ground    600  108     100      121      81   \n718     719    Diancie      Rock   Fairy    600   50     100      150     100   \n719     720      Hoopa   Psychic   Ghost    600   80     110       60     150   \n720     721  Volcanion      Fire   Water    600   80     110      120     130   \n\n     Sp_Def  ...  Pr_Male   Egg_Group_1 Egg_Group_2 hasMegaEvolution Height_m  \\\n18       35  ...     0.50         Field        none            False     0.30   \n19       70  ...     0.50         Field        none            False     0.71   \n24       50  ...     0.50         Field       Fairy            False     0.41   \n25       80  ...     0.50         Field       Fairy            False     0.79   \n36       65  ...     0.25         Field        none            False     0.61   \n..      ...  ...      ...           ...         ...              ...      ...   \n716      98  ...     0.50  Undiscovered        none            False     5.79   \n717      95  ...     0.50  Undiscovered        none            False     5.00   \n718     150  ...     0.50  Undiscovered        none             True     0.71   \n719     130  ...     0.50  Undiscovered        none            False     0.51   \n720      90  ...     0.50  Undiscovered        none            False     1.70   \n\n     Weight_kg Catch_Rate       Body_Style gower_dbscan  label_count  \n18         3.5        255        quadruped            6           62  \n19        18.5        127        quadruped            6           62  \n24         6.0        190        quadruped            6           62  \n25        30.0         75   bipedal_tailed            6           62  \n36         9.9        190        quadruped            6           62  \n..         ...        ...              ...          ...          ...  \n716      203.0         45        two_wings          402            1  \n717      305.0          3  serpentine_body          403            1  \n718        8.8          3        head_arms          404            1  \n719        9.0          3        head_only          405            1  \n720      195.0          3        quadruped          406            1  \n\n[721 rows x 25 columns]",
      "text/html": "<div>\n<style scoped>\n    .dataframe tbody tr th:only-of-type {\n        vertical-align: middle;\n    }\n\n    .dataframe tbody tr th {\n        vertical-align: top;\n    }\n\n    .dataframe thead th {\n        text-align: right;\n    }\n</style>\n<table border=\"1\" class=\"dataframe\">\n  <thead>\n    <tr style=\"text-align: right;\">\n      <th></th>\n      <th>Number</th>\n      <th>Name</th>\n      <th>Type_1</th>\n      <th>Type_2</th>\n      <th>Total</th>\n      <th>HP</th>\n      <th>Attack</th>\n      <th>Defense</th>\n      <th>Sp_Atk</th>\n      <th>Sp_Def</th>\n      <th>...</th>\n      <th>Pr_Male</th>\n      <th>Egg_Group_1</th>\n      <th>Egg_Group_2</th>\n      <th>hasMegaEvolution</th>\n      <th>Height_m</th>\n      <th>Weight_kg</th>\n      <th>Catch_Rate</th>\n      <th>Body_Style</th>\n      <th>gower_dbscan</th>\n      <th>label_count</th>\n    </tr>\n  </thead>\n  <tbody>\n    <tr>\n      <th>18</th>\n      <td>19</td>\n      <td>Rattata</td>\n      <td>Normal</td>\n      <td>none</td>\n      <td>253</td>\n      <td>30</td>\n      <td>56</td>\n      <td>35</td>\n      <td>25</td>\n      <td>35</td>\n      <td>...</td>\n      <td>0.50</td>\n      <td>Field</td>\n      <td>none</td>\n      <td>False</td>\n      <td>0.30</td>\n      <td>3.5</td>\n      <td>255</td>\n      <td>quadruped</td>\n      <td>6</td>\n      <td>62</td>\n    </tr>\n    <tr>\n      <th>19</th>\n      <td>20</td>\n      <td>Raticate</td>\n      <td>Normal</td>\n      <td>none</td>\n      <td>413</td>\n      <td>55</td>\n      <td>81</td>\n      <td>60</td>\n      <td>50</td>\n      <td>70</td>\n      <td>...</td>\n      <td>0.50</td>\n      <td>Field</td>\n      <td>none</td>\n      <td>False</td>\n      <td>0.71</td>\n      <td>18.5</td>\n      <td>127</td>\n      <td>quadruped</td>\n      <td>6</td>\n      <td>62</td>\n    </tr>\n    <tr>\n      <th>24</th>\n      <td>25</td>\n      <td>Pikachu</td>\n      <td>Electric</td>\n      <td>none</td>\n      <td>320</td>\n      <td>35</td>\n      <td>55</td>\n      <td>40</td>\n      <td>50</td>\n      <td>50</td>\n      <td>...</td>\n      <td>0.50</td>\n      <td>Field</td>\n      <td>Fairy</td>\n      <td>False</td>\n      <td>0.41</td>\n      <td>6.0</td>\n      <td>190</td>\n      <td>quadruped</td>\n      <td>6</td>\n      <td>62</td>\n    </tr>\n    <tr>\n      <th>25</th>\n      <td>26</td>\n      <td>Raichu</td>\n      <td>Electric</td>\n      <td>none</td>\n      <td>485</td>\n      <td>60</td>\n      <td>90</td>\n      <td>55</td>\n      <td>90</td>\n      <td>80</td>\n      <td>...</td>\n      <td>0.50</td>\n      <td>Field</td>\n      <td>Fairy</td>\n      <td>False</td>\n      <td>0.79</td>\n      <td>30.0</td>\n      <td>75</td>\n      <td>bipedal_tailed</td>\n      <td>6</td>\n      <td>62</td>\n    </tr>\n    <tr>\n      <th>36</th>\n      <td>37</td>\n      <td>Vulpix</td>\n      <td>Fire</td>\n      <td>none</td>\n      <td>299</td>\n      <td>38</td>\n      <td>41</td>\n      <td>40</td>\n      <td>50</td>\n      <td>65</td>\n      <td>...</td>\n      <td>0.25</td>\n      <td>Field</td>\n      <td>none</td>\n      <td>False</td>\n      <td>0.61</td>\n      <td>9.9</td>\n      <td>190</td>\n      <td>quadruped</td>\n      <td>6</td>\n      <td>62</td>\n    </tr>\n    <tr>\n      <th>...</th>\n      <td>...</td>\n      <td>...</td>\n      <td>...</td>\n      <td>...</td>\n      <td>...</td>\n      <td>...</td>\n      <td>...</td>\n      <td>...</td>\n      <td>...</td>\n      <td>...</td>\n      <td>...</td>\n      <td>...</td>\n      <td>...</td>\n      <td>...</td>\n      <td>...</td>\n      <td>...</td>\n      <td>...</td>\n      <td>...</td>\n      <td>...</td>\n      <td>...</td>\n      <td>...</td>\n    </tr>\n    <tr>\n      <th>716</th>\n      <td>717</td>\n      <td>Yveltal</td>\n      <td>Dark</td>\n      <td>Flying</td>\n      <td>680</td>\n      <td>126</td>\n      <td>131</td>\n      <td>95</td>\n      <td>131</td>\n      <td>98</td>\n      <td>...</td>\n      <td>0.50</td>\n      <td>Undiscovered</td>\n      <td>none</td>\n      <td>False</td>\n      <td>5.79</td>\n      <td>203.0</td>\n      <td>45</td>\n      <td>two_wings</td>\n      <td>402</td>\n      <td>1</td>\n    </tr>\n    <tr>\n      <th>717</th>\n      <td>718</td>\n      <td>Zygarde</td>\n      <td>Dragon</td>\n      <td>Ground</td>\n      <td>600</td>\n      <td>108</td>\n      <td>100</td>\n      <td>121</td>\n      <td>81</td>\n      <td>95</td>\n      <td>...</td>\n      <td>0.50</td>\n      <td>Undiscovered</td>\n      <td>none</td>\n      <td>False</td>\n      <td>5.00</td>\n      <td>305.0</td>\n      <td>3</td>\n      <td>serpentine_body</td>\n      <td>403</td>\n      <td>1</td>\n    </tr>\n    <tr>\n      <th>718</th>\n      <td>719</td>\n      <td>Diancie</td>\n      <td>Rock</td>\n      <td>Fairy</td>\n      <td>600</td>\n      <td>50</td>\n      <td>100</td>\n      <td>150</td>\n      <td>100</td>\n      <td>150</td>\n      <td>...</td>\n      <td>0.50</td>\n      <td>Undiscovered</td>\n      <td>none</td>\n      <td>True</td>\n      <td>0.71</td>\n      <td>8.8</td>\n      <td>3</td>\n      <td>head_arms</td>\n      <td>404</td>\n      <td>1</td>\n    </tr>\n    <tr>\n      <th>719</th>\n      <td>720</td>\n      <td>Hoopa</td>\n      <td>Psychic</td>\n      <td>Ghost</td>\n      <td>600</td>\n      <td>80</td>\n      <td>110</td>\n      <td>60</td>\n      <td>150</td>\n      <td>130</td>\n      <td>...</td>\n      <td>0.50</td>\n      <td>Undiscovered</td>\n      <td>none</td>\n      <td>False</td>\n      <td>0.51</td>\n      <td>9.0</td>\n      <td>3</td>\n      <td>head_only</td>\n      <td>405</td>\n      <td>1</td>\n    </tr>\n    <tr>\n      <th>720</th>\n      <td>721</td>\n      <td>Volcanion</td>\n      <td>Fire</td>\n      <td>Water</td>\n      <td>600</td>\n      <td>80</td>\n      <td>110</td>\n      <td>120</td>\n      <td>130</td>\n      <td>90</td>\n      <td>...</td>\n      <td>0.50</td>\n      <td>Undiscovered</td>\n      <td>none</td>\n      <td>False</td>\n      <td>1.70</td>\n      <td>195.0</td>\n      <td>3</td>\n      <td>quadruped</td>\n      <td>406</td>\n      <td>1</td>\n    </tr>\n  </tbody>\n</table>\n<p>721 rows × 25 columns</p>\n</div>"
     },
     "execution_count": 6,
     "metadata": {},
     "output_type": "execute_result"
    }
   ],
   "source": [
    "pokemon = pd.read_csv(\"pokemon/pokemon_alopez247.csv\")\n",
    "for c in pokemon.columns[pokemon.dtypes != object]:\n",
    "    pokemon.loc[pokemon[c].isna(), c] = np.nanmedian(pokemon[c])\n",
    "for c in pokemon.columns[pokemon.dtypes == object]:\n",
    "    pokemon.loc[pokemon[c].isna(), c] = \"none\"\n",
    "\n",
    "matrix2 = gower_matrix(pokemon.to_numpy(), chunksize=20)\n",
    "samples = [{\"eps\": z / 100, \"min_samples\": 1} for z in range(1, 1001)]\n",
    "results2 = process_map(partial(do_it, matrix=matrix2), samples, chunksize=20)\n",
    "best_params2 = max(results2, key=lambda z: z[1])\n",
    "print(best_params2)\n",
    "pokemon[\"gower_dbscan\"] = DBSCAN(metric=\"precomputed\", **best_params2[0]).fit_predict(matrix2)\n",
    "_, counts2 = np.unique(pokemon[\"gower_dbscan\"], return_counts=True)\n",
    "print(np.unique(counts2, return_counts=True))\n",
    "\n",
    "pokemon[\"label_count\"] = pokemon.groupby(\"gower_dbscan\").transform(\"count\").iloc[:, 0]\n",
    "pokemon.sort_values([\"label_count\", \"gower_dbscan\"], ascending=[False, True], inplace=True)\n",
    "pokemon\n"
   ],
   "metadata": {
    "collapsed": false
   }
  },
  {
   "cell_type": "markdown",
   "source": [
    "# Laptops dataset"
   ],
   "metadata": {
    "collapsed": false
   }
  },
  {
   "cell_type": "code",
   "execution_count": 7,
   "outputs": [
    {
     "name": "stdout",
     "output_type": "stream",
     "text": [
      "(977, 12)\n",
      "Model Name                  488\n",
      "Category                      6\n",
      "Screen Size                  18\n",
      "Screen                       38\n",
      "CPU                         106\n",
      "RAM                           8\n",
      " Storage                     36\n",
      "GPU                          98\n",
      "Operating System              7\n",
      "Operating System Version      5\n",
      "Weight                      166\n",
      "Price                       639\n",
      "dtype: int64\n"
     ]
    },
    {
     "data": {
      "text/plain": "  0%|          | 0/10 [00:00<?, ?it/s]",
      "application/vnd.jupyter.widget-view+json": {
       "version_major": 2,
       "version_minor": 0,
       "model_id": "3b5cae5dabfb4deab3950a4b54c1baba"
      }
     },
     "metadata": {},
     "output_type": "display_data"
    },
    {
     "data": {
      "text/plain": "  0%|          | 0/1 [00:00<?, ?it/s]",
      "application/vnd.jupyter.widget-view+json": {
       "version_major": 2,
       "version_minor": 0,
       "model_id": "12dea5ba48604069b1b759ad49dbdda6"
      }
     },
     "metadata": {},
     "output_type": "display_data"
    },
    {
     "data": {
      "text/plain": "  0%|          | 0/977 [00:00<?, ?it/s]",
      "application/vnd.jupyter.widget-view+json": {
       "version_major": 2,
       "version_minor": 0,
       "model_id": "168097e7a5ad4649af9d8737f1151617"
      }
     },
     "metadata": {},
     "output_type": "display_data"
    },
    {
     "data": {
      "text/plain": "  0%|          | 0/1000 [00:00<?, ?it/s]",
      "application/vnd.jupyter.widget-view+json": {
       "version_major": 2,
       "version_minor": 0,
       "model_id": "732f22dffdb246889acdc96e2b1e731f"
      }
     },
     "metadata": {},
     "output_type": "display_data"
    },
    {
     "name": "stdout",
     "output_type": "stream",
     "text": [
      "({'eps': 0.278, 'min_samples': 1}, 0.46388359112994826)\n",
      "(array([  1,   2,   3,   4,   5,   6,   7,   8,  11,  12,  17,  25,  49,\n",
      "        89, 207]), array([283,  51,  14,   4,   5,  10,   1,   4,   1,   1,   1,   1,   1,\n",
      "         1,   1]))\n"
     ]
    },
    {
     "data": {
      "text/plain": "                       Model Name   Category Screen Size  \\\nManufacturer                                               \nHP                         250 G6   Notebook       15.6\"   \nAcer                     Aspire 3   Notebook       15.6\"   \nHP                         250 G6   Notebook       15.6\"   \nHP                         250 G6   Notebook       15.6\"   \nDell                Inspiron 3567   Notebook       15.6\"   \n...                           ...        ...         ...   \nDell                       XPS 13  Ultrabook       13.3\"   \nAcer          Aspire F5-573G-510L   Notebook       15.6\"   \nDell               Latitude E7470  Ultrabook       14.0\"   \nHP                    Probook 450   Notebook       15.6\"   \nLenovo              ThinkPad T460   Notebook       14.0\"   \n\n                                   Screen                          CPU   RAM  \\\nManufacturer                                                                   \nHP                      Full HD 1920x1080   Intel Core i5 7200U 2.5GHz   8GB   \nAcer                             1366x768      AMD A9-Series 9420 3GHz   4GB   \nHP                               1366x768   Intel Core i5 7200U 2.5GHz   4GB   \nHP                      Full HD 1920x1080     Intel Core i3 6006U 2GHz   4GB   \nDell                    Full HD 1920x1080     Intel Core i3 6006U 2GHz   4GB   \n...                                   ...                          ...   ...   \nDell                   Quad HD+ 3200x1800   Intel Core i7 6500U 2.5GHz   8GB   \nAcer                    Full HD 1920x1080   Intel Core i5 7200U 2.5GHz  12GB   \nDell                Touchscreen 2560x1440   Intel Core i7 6600U 2.6GHz   8GB   \nHP            IPS Panel Full HD 1920x1080  Intel Core i5 7200U 2.70GHz   8GB   \nLenovo                           1366x768   Intel Core i5 6200U 2.3GHz   4GB   \n\n                           Storage                      GPU Operating System  \\\nManufacturer                                                                   \nHP                       256GB SSD    Intel HD Graphics 620            No OS   \nAcer                     500GB HDD            AMD Radeon R5          Windows   \nHP                       500GB HDD    Intel HD Graphics 620            No OS   \nHP                       500GB HDD    Intel HD Graphics 520            No OS   \nDell                     256GB SSD       AMD Radeon R5 M430          Windows   \n...                            ...                      ...              ...   \nDell                     256GB SSD    Intel HD Graphics 520          Windows   \nAcer          128GB SSD +  1TB HDD  Nvidia GeForce GTX 950M          Windows   \nDell                     256GB SSD    Intel HD Graphics 520          Windows   \nHP            128GB SSD +  1TB HDD     Nvidia GeForce 930MX          Windows   \nLenovo                508GB Hybrid    Intel HD Graphics 520          Windows   \n\n              Weight        Price  gower_dbscan  label_count  \nManufacturer                                                  \nHP            1.86kg   5112900.00             2          207  \nAcer           2.1kg   3556800.00             2          207  \nHP            1.86kg   3502558.80             2          207  \nHP            1.86kg   3067651.08             2          207  \nDell           2.2kg   4436218.80             2          207  \n...              ...          ...           ...          ...  \nDell           1.3kg  11275056.00           374            1  \nAcer           2.4kg   8972028.00           375            1  \nDell           1.5kg  17454818.16           376            1  \nHP            2.04kg   8705268.00           377            1  \nLenovo        1.70kg   8909784.00           378            1  \n\n[977 rows x 13 columns]",
      "text/html": "<div>\n<style scoped>\n    .dataframe tbody tr th:only-of-type {\n        vertical-align: middle;\n    }\n\n    .dataframe tbody tr th {\n        vertical-align: top;\n    }\n\n    .dataframe thead th {\n        text-align: right;\n    }\n</style>\n<table border=\"1\" class=\"dataframe\">\n  <thead>\n    <tr style=\"text-align: right;\">\n      <th></th>\n      <th>Model Name</th>\n      <th>Category</th>\n      <th>Screen Size</th>\n      <th>Screen</th>\n      <th>CPU</th>\n      <th>RAM</th>\n      <th>Storage</th>\n      <th>GPU</th>\n      <th>Operating System</th>\n      <th>Weight</th>\n      <th>Price</th>\n      <th>gower_dbscan</th>\n      <th>label_count</th>\n    </tr>\n    <tr>\n      <th>Manufacturer</th>\n      <th></th>\n      <th></th>\n      <th></th>\n      <th></th>\n      <th></th>\n      <th></th>\n      <th></th>\n      <th></th>\n      <th></th>\n      <th></th>\n      <th></th>\n      <th></th>\n      <th></th>\n    </tr>\n  </thead>\n  <tbody>\n    <tr>\n      <th>HP</th>\n      <td>250 G6</td>\n      <td>Notebook</td>\n      <td>15.6\"</td>\n      <td>Full HD 1920x1080</td>\n      <td>Intel Core i5 7200U 2.5GHz</td>\n      <td>8GB</td>\n      <td>256GB SSD</td>\n      <td>Intel HD Graphics 620</td>\n      <td>No OS</td>\n      <td>1.86kg</td>\n      <td>5112900.00</td>\n      <td>2</td>\n      <td>207</td>\n    </tr>\n    <tr>\n      <th>Acer</th>\n      <td>Aspire 3</td>\n      <td>Notebook</td>\n      <td>15.6\"</td>\n      <td>1366x768</td>\n      <td>AMD A9-Series 9420 3GHz</td>\n      <td>4GB</td>\n      <td>500GB HDD</td>\n      <td>AMD Radeon R5</td>\n      <td>Windows</td>\n      <td>2.1kg</td>\n      <td>3556800.00</td>\n      <td>2</td>\n      <td>207</td>\n    </tr>\n    <tr>\n      <th>HP</th>\n      <td>250 G6</td>\n      <td>Notebook</td>\n      <td>15.6\"</td>\n      <td>1366x768</td>\n      <td>Intel Core i5 7200U 2.5GHz</td>\n      <td>4GB</td>\n      <td>500GB HDD</td>\n      <td>Intel HD Graphics 620</td>\n      <td>No OS</td>\n      <td>1.86kg</td>\n      <td>3502558.80</td>\n      <td>2</td>\n      <td>207</td>\n    </tr>\n    <tr>\n      <th>HP</th>\n      <td>250 G6</td>\n      <td>Notebook</td>\n      <td>15.6\"</td>\n      <td>Full HD 1920x1080</td>\n      <td>Intel Core i3 6006U 2GHz</td>\n      <td>4GB</td>\n      <td>500GB HDD</td>\n      <td>Intel HD Graphics 520</td>\n      <td>No OS</td>\n      <td>1.86kg</td>\n      <td>3067651.08</td>\n      <td>2</td>\n      <td>207</td>\n    </tr>\n    <tr>\n      <th>Dell</th>\n      <td>Inspiron 3567</td>\n      <td>Notebook</td>\n      <td>15.6\"</td>\n      <td>Full HD 1920x1080</td>\n      <td>Intel Core i3 6006U 2GHz</td>\n      <td>4GB</td>\n      <td>256GB SSD</td>\n      <td>AMD Radeon R5 M430</td>\n      <td>Windows</td>\n      <td>2.2kg</td>\n      <td>4436218.80</td>\n      <td>2</td>\n      <td>207</td>\n    </tr>\n    <tr>\n      <th>...</th>\n      <td>...</td>\n      <td>...</td>\n      <td>...</td>\n      <td>...</td>\n      <td>...</td>\n      <td>...</td>\n      <td>...</td>\n      <td>...</td>\n      <td>...</td>\n      <td>...</td>\n      <td>...</td>\n      <td>...</td>\n      <td>...</td>\n    </tr>\n    <tr>\n      <th>Dell</th>\n      <td>XPS 13</td>\n      <td>Ultrabook</td>\n      <td>13.3\"</td>\n      <td>Quad HD+ 3200x1800</td>\n      <td>Intel Core i7 6500U 2.5GHz</td>\n      <td>8GB</td>\n      <td>256GB SSD</td>\n      <td>Intel HD Graphics 520</td>\n      <td>Windows</td>\n      <td>1.3kg</td>\n      <td>11275056.00</td>\n      <td>374</td>\n      <td>1</td>\n    </tr>\n    <tr>\n      <th>Acer</th>\n      <td>Aspire F5-573G-510L</td>\n      <td>Notebook</td>\n      <td>15.6\"</td>\n      <td>Full HD 1920x1080</td>\n      <td>Intel Core i5 7200U 2.5GHz</td>\n      <td>12GB</td>\n      <td>128GB SSD +  1TB HDD</td>\n      <td>Nvidia GeForce GTX 950M</td>\n      <td>Windows</td>\n      <td>2.4kg</td>\n      <td>8972028.00</td>\n      <td>375</td>\n      <td>1</td>\n    </tr>\n    <tr>\n      <th>Dell</th>\n      <td>Latitude E7470</td>\n      <td>Ultrabook</td>\n      <td>14.0\"</td>\n      <td>Touchscreen 2560x1440</td>\n      <td>Intel Core i7 6600U 2.6GHz</td>\n      <td>8GB</td>\n      <td>256GB SSD</td>\n      <td>Intel HD Graphics 520</td>\n      <td>Windows</td>\n      <td>1.5kg</td>\n      <td>17454818.16</td>\n      <td>376</td>\n      <td>1</td>\n    </tr>\n    <tr>\n      <th>HP</th>\n      <td>Probook 450</td>\n      <td>Notebook</td>\n      <td>15.6\"</td>\n      <td>IPS Panel Full HD 1920x1080</td>\n      <td>Intel Core i5 7200U 2.70GHz</td>\n      <td>8GB</td>\n      <td>128GB SSD +  1TB HDD</td>\n      <td>Nvidia GeForce 930MX</td>\n      <td>Windows</td>\n      <td>2.04kg</td>\n      <td>8705268.00</td>\n      <td>377</td>\n      <td>1</td>\n    </tr>\n    <tr>\n      <th>Lenovo</th>\n      <td>ThinkPad T460</td>\n      <td>Notebook</td>\n      <td>14.0\"</td>\n      <td>1366x768</td>\n      <td>Intel Core i5 6200U 2.3GHz</td>\n      <td>4GB</td>\n      <td>508GB Hybrid</td>\n      <td>Intel HD Graphics 520</td>\n      <td>Windows</td>\n      <td>1.70kg</td>\n      <td>8909784.00</td>\n      <td>378</td>\n      <td>1</td>\n    </tr>\n  </tbody>\n</table>\n<p>977 rows × 13 columns</p>\n</div>"
     },
     "execution_count": 7,
     "metadata": {},
     "output_type": "execute_result"
    }
   ],
   "source": [
    "laptops = pd.read_csv(\"laptops/laptops_train.csv\", index_col=0)\n",
    "print(laptops.shape)\n",
    "print(laptops.apply(lambda col: col.unique(), axis=0).apply(len))\n",
    "laptops.drop(\"Operating System Version\", axis=1, inplace=True)\n",
    "\n",
    "matrix3 = gower_matrix(laptops.to_numpy(), R=(25, 75), chunksize=20)\n",
    "samples = [{\"eps\": z / 1000, \"min_samples\": 1} for z in range(1, 1001)]\n",
    "results3 = process_map(partial(do_it, matrix=matrix3), samples, chunksize=20)\n",
    "best_params3 = max(results3, key=lambda z: z[1])\n",
    "print(best_params3)\n",
    "laptops[\"gower_dbscan\"] = DBSCAN(metric=\"precomputed\", **best_params3[0]).fit_predict(matrix3)\n",
    "_, counts3 = np.unique(laptops[\"gower_dbscan\"], return_counts=True)\n",
    "print(np.unique(counts3, return_counts=True))\n",
    "\n",
    "laptops[\"label_count\"] = laptops.groupby(\"gower_dbscan\").transform(\"count\").iloc[:, 0]\n",
    "laptops.sort_values([\"label_count\", \"gower_dbscan\"], ascending=[False, True], inplace=True)\n",
    "laptops\n"
   ],
   "metadata": {
    "collapsed": false
   }
  },
  {
   "cell_type": "code",
   "execution_count": 7,
   "outputs": [],
   "source": [],
   "metadata": {
    "collapsed": false
   }
  }
 ],
 "metadata": {
  "kernelspec": {
   "display_name": "Python 3",
   "language": "python",
   "name": "python3"
  },
  "language_info": {
   "codemirror_mode": {
    "name": "ipython",
    "version": 2
   },
   "file_extension": ".py",
   "mimetype": "text/x-python",
   "name": "python",
   "nbconvert_exporter": "python",
   "pygments_lexer": "ipython2",
   "version": "2.7.6"
  }
 },
 "nbformat": 4,
 "nbformat_minor": 0
}
