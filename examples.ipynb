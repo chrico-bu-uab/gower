{
 "cells": [
  {
   "cell_type": "code",
   "execution_count": 1,
   "metadata": {
    "collapsed": true
   },
   "outputs": [
    {
     "data": {
      "text/plain": "  0%|          | 0/7 [00:00<?, ?it/s]",
      "application/vnd.jupyter.widget-view+json": {
       "version_major": 2,
       "version_minor": 0,
       "model_id": "bee3068972bb4a31a62d0259d1bc7363"
      }
     },
     "metadata": {},
     "output_type": "display_data"
    },
    {
     "data": {
      "text/plain": "[0,\n 0,\n 0.16000000000000003,\n 0.24691358024691357,\n 0.32098765432098725,\n 0.3733333333333334,\n 0.40329218106995873]"
     },
     "execution_count": 1,
     "metadata": {},
     "output_type": "execute_result"
    }
   ],
   "source": [
    "from functools import partial\n",
    "import numpy as np\n",
    "import pandas as pd\n",
    "from scipy.stats import skew, kurtosis\n",
    "from sklearn.preprocessing import OneHotEncoder\n",
    "from tqdm.contrib.concurrent import process_map\n",
    "from gower.gower_dist import *\n",
    "\n",
    "a = ['a'] * 10\n",
    "b = list('abcdefghij')\n",
    "c = ['a'] * 1 + ['b'] * 9\n",
    "d = ['a'] * 5 + ['b'] * 5\n",
    "e = list('abcdeabcde')\n",
    "f = ['a'] * 3 + ['b'] * 3 + ['c'] * 3 + ['d'] * 1\n",
    "g = ['a'] * 1 + ['b'] * 2 + ['c'] * 3 + ['d'] * 4\n",
    "\n",
    "process_map(get_cat_weight, [a, b, c, d, e, f, g])\n"
   ]
  },
  {
   "cell_type": "code",
   "execution_count": 2,
   "outputs": [],
   "source": [
    "df = pd.DataFrame({\"Sex1\": [\"M\", \"M\", \"F\", \"F\", \"F\", \"M\", \"M\", \"F\", \"F\", \"F\"],\n",
    "                   \"Sex2\": [\"M\", \"M\", \"F\", \"F\", \"F\", \"F\", \"F\", \"M\", \"M\", \"M\"],\n",
    "                   \"Age1\": [15] * 10,\n",
    "                   \"Age2\": [15, 36, 58, 78, 100, 15, 36, 58, 78, 100]})"
   ],
   "metadata": {
    "collapsed": false
   }
  },
  {
   "cell_type": "code",
   "execution_count": 3,
   "outputs": [
    {
     "data": {
      "text/plain": "  0%|          | 0/10 [00:00<?, ?it/s]",
      "application/vnd.jupyter.widget-view+json": {
       "version_major": 2,
       "version_minor": 0,
       "model_id": "aff9d68d3b7249ec9e4c851ea39ba81f"
      }
     },
     "metadata": {},
     "output_type": "display_data"
    },
    {
     "data": {
      "text/plain": "  Sex1 Sex2  Age1  Age2\n0    M    M    15    15\n1    M    M    15    36\n2    F    F    15    58\n3    F    F    15    78\n4    F    F    15   100\n5    M    F    15    15\n6    M    F    15    36\n7    F    M    15    58\n8    F    M    15    78\n9    F    M    15   100",
      "text/html": "<div>\n<style scoped>\n    .dataframe tbody tr th:only-of-type {\n        vertical-align: middle;\n    }\n\n    .dataframe tbody tr th {\n        vertical-align: top;\n    }\n\n    .dataframe thead th {\n        text-align: right;\n    }\n</style>\n<table border=\"1\" class=\"dataframe\">\n  <thead>\n    <tr style=\"text-align: right;\">\n      <th></th>\n      <th>Sex1</th>\n      <th>Sex2</th>\n      <th>Age1</th>\n      <th>Age2</th>\n    </tr>\n  </thead>\n  <tbody>\n    <tr>\n      <th>0</th>\n      <td>M</td>\n      <td>M</td>\n      <td>15</td>\n      <td>15</td>\n    </tr>\n    <tr>\n      <th>1</th>\n      <td>M</td>\n      <td>M</td>\n      <td>15</td>\n      <td>36</td>\n    </tr>\n    <tr>\n      <th>2</th>\n      <td>F</td>\n      <td>F</td>\n      <td>15</td>\n      <td>58</td>\n    </tr>\n    <tr>\n      <th>3</th>\n      <td>F</td>\n      <td>F</td>\n      <td>15</td>\n      <td>78</td>\n    </tr>\n    <tr>\n      <th>4</th>\n      <td>F</td>\n      <td>F</td>\n      <td>15</td>\n      <td>100</td>\n    </tr>\n    <tr>\n      <th>5</th>\n      <td>M</td>\n      <td>F</td>\n      <td>15</td>\n      <td>15</td>\n    </tr>\n    <tr>\n      <th>6</th>\n      <td>M</td>\n      <td>F</td>\n      <td>15</td>\n      <td>36</td>\n    </tr>\n    <tr>\n      <th>7</th>\n      <td>F</td>\n      <td>M</td>\n      <td>15</td>\n      <td>58</td>\n    </tr>\n    <tr>\n      <th>8</th>\n      <td>F</td>\n      <td>M</td>\n      <td>15</td>\n      <td>78</td>\n    </tr>\n    <tr>\n      <th>9</th>\n      <td>F</td>\n      <td>M</td>\n      <td>15</td>\n      <td>100</td>\n    </tr>\n  </tbody>\n</table>\n</div>"
     },
     "execution_count": 3,
     "metadata": {},
     "output_type": "execute_result"
    }
   ],
   "source": [
    "x = gower_matrix(df[[\"Sex1\", \"Age1\"]].to_numpy(), df[[\"Sex2\", \"Age2\"]].to_numpy(), weight=np.ones(2))\n",
    "df.loc[np.argsort(np.diag(x))]"
   ],
   "metadata": {
    "collapsed": false
   }
  },
  {
   "cell_type": "code",
   "execution_count": 4,
   "outputs": [
    {
     "data": {
      "text/plain": "  0%|          | 0/1 [00:00<?, ?it/s]",
      "application/vnd.jupyter.widget-view+json": {
       "version_major": 2,
       "version_minor": 0,
       "model_id": "be1263b7fa3044c3a1b4e14f168519bf"
      }
     },
     "metadata": {},
     "output_type": "display_data"
    },
    {
     "data": {
      "text/plain": "  0%|          | 0/10 [00:00<?, ?it/s]",
      "application/vnd.jupyter.widget-view+json": {
       "version_major": 2,
       "version_minor": 0,
       "model_id": "176dbdce3ab74a2eb3c9a24105f74977"
      }
     },
     "metadata": {},
     "output_type": "display_data"
    },
    {
     "data": {
      "text/plain": "  Sex1 Sex2  Age1  Age2\n0    M    M    15    15\n1    M    M    15    36\n5    M    F    15    15\n6    M    F    15    36\n2    F    F    15    58\n3    F    F    15    78\n7    F    M    15    58\n8    F    M    15    78\n4    F    F    15   100\n9    F    M    15   100",
      "text/html": "<div>\n<style scoped>\n    .dataframe tbody tr th:only-of-type {\n        vertical-align: middle;\n    }\n\n    .dataframe tbody tr th {\n        vertical-align: top;\n    }\n\n    .dataframe thead th {\n        text-align: right;\n    }\n</style>\n<table border=\"1\" class=\"dataframe\">\n  <thead>\n    <tr style=\"text-align: right;\">\n      <th></th>\n      <th>Sex1</th>\n      <th>Sex2</th>\n      <th>Age1</th>\n      <th>Age2</th>\n    </tr>\n  </thead>\n  <tbody>\n    <tr>\n      <th>0</th>\n      <td>M</td>\n      <td>M</td>\n      <td>15</td>\n      <td>15</td>\n    </tr>\n    <tr>\n      <th>1</th>\n      <td>M</td>\n      <td>M</td>\n      <td>15</td>\n      <td>36</td>\n    </tr>\n    <tr>\n      <th>5</th>\n      <td>M</td>\n      <td>F</td>\n      <td>15</td>\n      <td>15</td>\n    </tr>\n    <tr>\n      <th>6</th>\n      <td>M</td>\n      <td>F</td>\n      <td>15</td>\n      <td>36</td>\n    </tr>\n    <tr>\n      <th>2</th>\n      <td>F</td>\n      <td>F</td>\n      <td>15</td>\n      <td>58</td>\n    </tr>\n    <tr>\n      <th>3</th>\n      <td>F</td>\n      <td>F</td>\n      <td>15</td>\n      <td>78</td>\n    </tr>\n    <tr>\n      <th>7</th>\n      <td>F</td>\n      <td>M</td>\n      <td>15</td>\n      <td>58</td>\n    </tr>\n    <tr>\n      <th>8</th>\n      <td>F</td>\n      <td>M</td>\n      <td>15</td>\n      <td>78</td>\n    </tr>\n    <tr>\n      <th>4</th>\n      <td>F</td>\n      <td>F</td>\n      <td>15</td>\n      <td>100</td>\n    </tr>\n    <tr>\n      <th>9</th>\n      <td>F</td>\n      <td>M</td>\n      <td>15</td>\n      <td>100</td>\n    </tr>\n  </tbody>\n</table>\n</div>"
     },
     "execution_count": 4,
     "metadata": {},
     "output_type": "execute_result"
    }
   ],
   "source": [
    "x = gower_matrix(df[[\"Sex1\", \"Age1\"]].to_numpy(), df[[\"Sex2\", \"Age2\"]].to_numpy())\n",
    "df.loc[np.argsort(np.diag(x))]"
   ],
   "metadata": {
    "collapsed": false
   }
  },
  {
   "cell_type": "code",
   "execution_count": 4,
   "outputs": [],
   "source": [],
   "metadata": {
    "collapsed": false
   }
  }
 ],
 "metadata": {
  "kernelspec": {
   "display_name": "Python 3",
   "language": "python",
   "name": "python3"
  },
  "language_info": {
   "codemirror_mode": {
    "name": "ipython",
    "version": 2
   },
   "file_extension": ".py",
   "mimetype": "text/x-python",
   "name": "python",
   "nbconvert_exporter": "python",
   "pygments_lexer": "ipython2",
   "version": "2.7.6"
  }
 },
 "nbformat": 4,
 "nbformat_minor": 0
}
